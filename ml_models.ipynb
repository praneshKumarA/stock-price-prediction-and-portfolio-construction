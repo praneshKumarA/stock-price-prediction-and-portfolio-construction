{
  "nbformat": 4,
  "nbformat_minor": 0,
  "metadata": {
    "colab": {
      "name": "ML Package.ipynb",
      "provenance": [],
      "collapsed_sections": [
        "1bAL8Pp0THBR",
        "dArxq9tbTOQB",
        "k9PkSgbkeFem"
      ]
    },
    "kernelspec": {
      "name": "python3",
      "display_name": "Python 3"
    },
    "language_info": {
      "name": "python"
    }
  },
  "cells": [
    {
      "cell_type": "code",
      "metadata": {
        "colab": {
          "base_uri": "https://localhost:8080/"
        },
        "id": "kyoDfb4TEiZS",
        "outputId": "66a5a7c5-c051-4ab4-8683-4b1b710e81cd"
      },
      "source": [
        "!pip install yfinance"
      ],
      "execution_count": null,
      "outputs": [
        {
          "output_type": "stream",
          "name": "stdout",
          "text": [
            "Collecting yfinance\n",
            "  Downloading yfinance-0.1.67-py2.py3-none-any.whl (25 kB)\n",
            "Requirement already satisfied: multitasking>=0.0.7 in /usr/local/lib/python3.7/dist-packages (from yfinance) (0.0.10)\n",
            "Requirement already satisfied: requests>=2.20 in /usr/local/lib/python3.7/dist-packages (from yfinance) (2.23.0)\n",
            "Collecting lxml>=4.5.1\n",
            "  Downloading lxml-4.6.4-cp37-cp37m-manylinux_2_17_x86_64.manylinux2014_x86_64.manylinux_2_24_x86_64.whl (6.3 MB)\n",
            "\u001b[K     |████████████████████████████████| 6.3 MB 12.0 MB/s \n",
            "\u001b[?25hRequirement already satisfied: numpy>=1.15 in /usr/local/lib/python3.7/dist-packages (from yfinance) (1.19.5)\n",
            "Requirement already satisfied: pandas>=0.24 in /usr/local/lib/python3.7/dist-packages (from yfinance) (1.1.5)\n",
            "Requirement already satisfied: pytz>=2017.2 in /usr/local/lib/python3.7/dist-packages (from pandas>=0.24->yfinance) (2018.9)\n",
            "Requirement already satisfied: python-dateutil>=2.7.3 in /usr/local/lib/python3.7/dist-packages (from pandas>=0.24->yfinance) (2.8.2)\n",
            "Requirement already satisfied: six>=1.5 in /usr/local/lib/python3.7/dist-packages (from python-dateutil>=2.7.3->pandas>=0.24->yfinance) (1.15.0)\n",
            "Requirement already satisfied: chardet<4,>=3.0.2 in /usr/local/lib/python3.7/dist-packages (from requests>=2.20->yfinance) (3.0.4)\n",
            "Requirement already satisfied: idna<3,>=2.5 in /usr/local/lib/python3.7/dist-packages (from requests>=2.20->yfinance) (2.10)\n",
            "Requirement already satisfied: urllib3!=1.25.0,!=1.25.1,<1.26,>=1.21.1 in /usr/local/lib/python3.7/dist-packages (from requests>=2.20->yfinance) (1.24.3)\n",
            "Requirement already satisfied: certifi>=2017.4.17 in /usr/local/lib/python3.7/dist-packages (from requests>=2.20->yfinance) (2021.10.8)\n",
            "Installing collected packages: lxml, yfinance\n",
            "  Attempting uninstall: lxml\n",
            "    Found existing installation: lxml 4.2.6\n",
            "    Uninstalling lxml-4.2.6:\n",
            "      Successfully uninstalled lxml-4.2.6\n",
            "Successfully installed lxml-4.6.4 yfinance-0.1.67\n"
          ]
        }
      ]
    },
    {
      "cell_type": "code",
      "metadata": {
        "id": "9alz7c1GwWSl",
        "colab": {
          "base_uri": "https://localhost:8080/",
          "height": 238
        },
        "outputId": "83dd4cdc-bcf8-48a7-8947-fda39b75441a"
      },
      "source": [
        "import yfinance as yf\n",
        "df = yf.download('GOOGL', start='2010-10-10', end='2020-2-20', progress=False)\n",
        "df = df.dropna()\n",
        "df.head()"
      ],
      "execution_count": null,
      "outputs": [
        {
          "output_type": "execute_result",
          "data": {
            "text/html": [
              "<div>\n",
              "<style scoped>\n",
              "    .dataframe tbody tr th:only-of-type {\n",
              "        vertical-align: middle;\n",
              "    }\n",
              "\n",
              "    .dataframe tbody tr th {\n",
              "        vertical-align: top;\n",
              "    }\n",
              "\n",
              "    .dataframe thead th {\n",
              "        text-align: right;\n",
              "    }\n",
              "</style>\n",
              "<table border=\"1\" class=\"dataframe\">\n",
              "  <thead>\n",
              "    <tr style=\"text-align: right;\">\n",
              "      <th></th>\n",
              "      <th>Open</th>\n",
              "      <th>High</th>\n",
              "      <th>Low</th>\n",
              "      <th>Close</th>\n",
              "      <th>Adj Close</th>\n",
              "      <th>Volume</th>\n",
              "    </tr>\n",
              "    <tr>\n",
              "      <th>Date</th>\n",
              "      <th></th>\n",
              "      <th></th>\n",
              "      <th></th>\n",
              "      <th></th>\n",
              "      <th></th>\n",
              "      <th></th>\n",
              "    </tr>\n",
              "  </thead>\n",
              "  <tbody>\n",
              "    <tr>\n",
              "      <th>2010-10-11</th>\n",
              "      <td>269.509521</td>\n",
              "      <td>272.572571</td>\n",
              "      <td>268.853851</td>\n",
              "      <td>269.689697</td>\n",
              "      <td>269.689697</td>\n",
              "      <td>5247347</td>\n",
              "    </tr>\n",
              "    <tr>\n",
              "      <th>2010-10-12</th>\n",
              "      <td>270.330322</td>\n",
              "      <td>273.268280</td>\n",
              "      <td>269.164154</td>\n",
              "      <td>270.965973</td>\n",
              "      <td>270.965973</td>\n",
              "      <td>7499693</td>\n",
              "    </tr>\n",
              "    <tr>\n",
              "      <th>2010-10-13</th>\n",
              "      <td>273.773773</td>\n",
              "      <td>274.019012</td>\n",
              "      <td>271.436432</td>\n",
              "      <td>271.921936</td>\n",
              "      <td>271.921936</td>\n",
              "      <td>6105089</td>\n",
              "    </tr>\n",
              "    <tr>\n",
              "      <th>2010-10-14</th>\n",
              "      <td>272.362366</td>\n",
              "      <td>272.897888</td>\n",
              "      <td>268.823822</td>\n",
              "      <td>270.735748</td>\n",
              "      <td>270.735748</td>\n",
              "      <td>13254932</td>\n",
              "    </tr>\n",
              "    <tr>\n",
              "      <th>2010-10-15</th>\n",
              "      <td>299.934937</td>\n",
              "      <td>301.121124</td>\n",
              "      <td>296.096100</td>\n",
              "      <td>301.026031</td>\n",
              "      <td>301.026031</td>\n",
              "      <td>29619950</td>\n",
              "    </tr>\n",
              "  </tbody>\n",
              "</table>\n",
              "</div>"
            ],
            "text/plain": [
              "                  Open        High  ...   Adj Close    Volume\n",
              "Date                                ...                      \n",
              "2010-10-11  269.509521  272.572571  ...  269.689697   5247347\n",
              "2010-10-12  270.330322  273.268280  ...  270.965973   7499693\n",
              "2010-10-13  273.773773  274.019012  ...  271.921936   6105089\n",
              "2010-10-14  272.362366  272.897888  ...  270.735748  13254932\n",
              "2010-10-15  299.934937  301.121124  ...  301.026031  29619950\n",
              "\n",
              "[5 rows x 6 columns]"
            ]
          },
          "metadata": {},
          "execution_count": 4
        }
      ]
    },
    {
      "cell_type": "code",
      "metadata": {
        "id": "bHmUbr4qFQfz"
      },
      "source": [
        "Y = df['Close']\n",
        "X = df.drop(['Close', 'Adj Close'], axis = 1)\n",
        "\n",
        "from sklearn.model_selection import train_test_split\n",
        "X_train, X_test, Y_train, Y_test = train_test_split(X, Y, test_size = 0.33)\n",
        "# print(X_train)\n",
        "# print(X_test)\n",
        "# print(Y_train)\n",
        "# print(Y_test)"
      ],
      "execution_count": null,
      "outputs": []
    },
    {
      "cell_type": "markdown",
      "metadata": {
        "id": "1bAL8Pp0THBR"
      },
      "source": [
        "# **Linear Regression**"
      ]
    },
    {
      "cell_type": "code",
      "metadata": {
        "id": "9pjlh0k0Geji"
      },
      "source": [
        "from sklearn.linear_model import LinearRegression\n",
        "from sklearn.metrics import confusion_matrix, accuracy_score"
      ],
      "execution_count": null,
      "outputs": []
    },
    {
      "cell_type": "code",
      "metadata": {
        "id": "TbnlUURPGhby"
      },
      "source": [
        "regression = LinearRegression().fit(X_train, Y_train)"
      ],
      "execution_count": null,
      "outputs": []
    },
    {
      "cell_type": "code",
      "metadata": {
        "id": "ks__ZPZ1IQOr"
      },
      "source": [
        "predicted = regression.predict(X_test)"
      ],
      "execution_count": null,
      "outputs": []
    },
    {
      "cell_type": "code",
      "metadata": {
        "colab": {
          "base_uri": "https://localhost:8080/"
        },
        "id": "xJK9abFYIjsq",
        "outputId": "1b4e3192-6f4a-4e6e-c9ec-2f0cb5af398b"
      },
      "source": [
        "print(predicted)"
      ],
      "execution_count": null,
      "outputs": [
        {
          "output_type": "stream",
          "name": "stdout",
          "text": [
            "[1433.2560042   276.04695037 1025.73413314 1174.22493346  600.21026201\n",
            " 1072.87250269  312.49112276  593.2575594  1149.12843993  564.89688836\n",
            "  309.33139189  537.90769388  937.55334894  441.54549854  453.53573752\n",
            "  286.15760515  766.3825834   847.3150914   796.33000984  953.96879255\n",
            "  855.1544602  1024.72190825  864.39333786  305.61978274 1358.9095858\n",
            "  352.80125173  788.29330025  586.04834296  765.29481301  308.29010778\n",
            " 1143.68922388 1050.09850164  723.12078193  944.02702553  311.6415453\n",
            "  585.93039092  315.98692876  725.01873478 1211.88862381 1041.32696714\n",
            " 1256.78757007  324.9552596   508.87659167  592.16329864 1170.21491098\n",
            " 1052.00913606  308.60228944 1477.58316048  552.51336098  316.16253528\n",
            "  313.10662701  293.79652662 1038.4061263   545.23320697 1241.59738516\n",
            "  555.59133104  426.08171392  347.87507477  766.21058136  802.18277968\n",
            " 1099.64811407  367.879835    517.70152978  308.54697697  272.32921351\n",
            " 1342.88342473  285.3233514   502.79337549 1111.05905871  302.90470574\n",
            "  777.87032701 1070.31407319  303.55862937  952.82413507  728.20977335\n",
            " 1036.39942284 1198.46075044 1041.61553354  710.21320853 1108.94521446\n",
            "  404.78279174  304.71157881  815.29390638  308.41174199  574.845534\n",
            "  299.23442322 1173.95396623  796.93431789  714.76455611 1100.90483628\n",
            " 1044.52187732  598.30965206  533.08604291 1110.62251853  349.53753975\n",
            "  307.58822894  261.03656203  440.54930533  525.86259818  759.25581357\n",
            " 1292.50028944  286.65634203  376.94317119 1190.16075618  977.0858574\n",
            "  663.95578906  305.12452425 1166.12529663  292.6867201   313.33386778\n",
            " 1263.42211781 1354.50162502  446.21253156  829.22674755 1235.78673115\n",
            " 1172.99091202  392.97338488 1058.09927849  308.4846088   296.18643314\n",
            "  740.36525248  306.79854631 1215.39283136  870.37019809 1208.51585581\n",
            "  302.68535271  747.94170171 1153.0551427   769.92154411  745.00379895\n",
            "  553.19719805  552.51049694  754.79536459 1176.39760417 1080.16998749\n",
            "  524.79502409  976.5457379   697.85736435  369.21697266  557.17668375\n",
            "  958.44118995  259.21204431  447.74945064  639.88229738 1051.31970746\n",
            "  549.7786845   679.49144569  285.72406917  292.38996255  453.93513002\n",
            "  297.832514    237.72470069  833.9606104   313.98681448  745.61922647\n",
            "  784.84118201  297.71196042 1057.45655341 1233.66132553  808.31557675\n",
            "  761.60918397  319.41125644  826.17804498  569.27349122  801.25185651\n",
            " 1016.42285232  544.26538531  312.54052698  437.98058866  761.90488056\n",
            "  294.70198053  833.1536523  1070.64918398  298.81976733  537.88859185\n",
            " 1253.7719944   789.06093257  805.90420066 1060.26169576  755.70296678\n",
            "  944.89847785  529.60694592  718.81122949 1153.74093215  327.03731167\n",
            "  547.39070021  550.37430699  296.76033321  565.97374824 1249.33964022\n",
            " 1296.07927406  288.94966258  392.67789052  303.87792735  338.50437289\n",
            "  303.61535581  860.40650436 1198.37598152  994.06897303  296.2922954\n",
            "  269.64601042  549.84020191  560.18556883 1078.527038    952.15870983\n",
            "  541.05737861  447.24796689 1197.99564359  799.99889923  553.01625449\n",
            "  724.55582256  922.62155508 1493.41222455  268.673982    808.51854529\n",
            "  981.83999308 1142.02967     811.4750388   317.01049763  316.56056314\n",
            "  297.34169192 1198.30014579 1197.04621489  407.50459292  430.07783179\n",
            "  260.24337196  287.99661767  946.0276554  1238.12115133 1094.76150488\n",
            " 1348.83511474 1130.5933267   284.74519913 1388.08420165 1189.47146564\n",
            "  280.87123203  811.40572442  296.74065332  545.23173905  306.62168751\n",
            "  761.2905509  1067.41160112 1183.3444723   279.27153096 1027.73911856\n",
            "  610.09866062  414.35777155  755.32755601  848.36294957  339.47185418\n",
            "  582.32250835  442.30736589  814.41047448  280.95615356  570.79479757\n",
            "  982.00817257  383.43692373  552.63073862  305.81948258 1244.83327069\n",
            "  711.209707    806.05796779  766.06789387  828.32172951  307.23437134\n",
            "  547.94124817  811.78907919  770.51252278 1236.72010047 1236.84519132\n",
            " 1077.82783264  543.93645931 1041.37873346  547.6734262   852.32638482\n",
            "  518.80519491  581.66746865  307.10764049  736.46877589  443.89708919\n",
            " 1147.6358041   265.76699959  769.1323616   551.03391627 1481.34340443\n",
            "  440.30778624  501.39009887  316.82704666  291.23467846  762.80370407\n",
            "  687.87778239  579.67007495  320.9523207  1149.37615582  429.43100472\n",
            " 1165.60518349 1300.31619444 1189.59032779 1337.42503689  835.83704073\n",
            " 1287.06965724  942.14292321  283.61205495 1226.53885984  803.98926222\n",
            "  586.64291777  334.79978383 1100.01926422 1265.43999051  805.96572756\n",
            "  587.80804454  373.14288936  543.25104037  305.4413417   309.53776001\n",
            "  449.70246442  944.39097434  321.19741275  534.11065962  379.49651313\n",
            "  759.41941849  296.65231638  260.06747934  524.58078739  347.05598642\n",
            " 1145.94250135  548.82019886 1048.18067664  647.95436076  290.26226142\n",
            "  293.75686011  349.58363495  710.44908491 1117.72575085  755.04657487\n",
            "  441.07018257  526.8233552   314.90491538  353.21620824  733.46925765\n",
            "  716.56191827  312.1318147   854.36484721  536.21826083  638.19830691\n",
            " 1438.73474938 1158.76850437 1048.68904212  443.04899279 1168.08047425\n",
            "  735.98884517 1023.93082117  532.60780155  534.82449326 1175.80864127\n",
            "  313.6050979   343.24009064  402.60015717  317.72115523 1210.75241606\n",
            "  569.96303509  591.21318545  537.17252976  932.18515672  707.03408145\n",
            "  597.01194637  606.85181432  288.4322797   711.48881042  286.11546462\n",
            " 1048.90199705  288.50261152 1081.28701789 1172.48287528  445.55454449\n",
            "  328.85319971  820.58273714  288.06720435  732.34369756 1354.84973787\n",
            "  443.41980279  533.16048678  838.90586932  810.1203978   306.26689876\n",
            "  238.38703284  758.55989466  306.86454117  296.7301316   580.26956622\n",
            "  741.46858339  807.91187864  730.51477431  302.88275248  304.82273338\n",
            "  300.67718582  320.46215487  666.39437833  427.52138272 1231.98942342\n",
            " 1140.08242133  820.40605229  367.6515211  1129.44273504  307.92586202\n",
            "  394.39581705  311.57409391  825.62236051 1318.57401153  378.52802643\n",
            "  838.92258797  398.27934114 1050.0321939   284.10881023 1113.72513143\n",
            "  929.47146792  540.88624314 1109.22189852  690.55539603  602.87464787\n",
            "  338.82350977 1118.90951379  627.17104531  364.32913807  804.97023114\n",
            " 1006.37639932  295.29445534  716.12559116 1342.27765193  575.88826274\n",
            " 1310.94291242  276.84951789  760.38675955  553.7506051   742.74549027\n",
            "  736.01386101  544.74158835  372.33269318  436.32790702 1363.35860381\n",
            " 1177.75396232  289.78061826  526.48849175 1224.47955352  537.98632961\n",
            " 1231.93431042  538.45369012  555.81403731  797.92175859 1231.43289684\n",
            "  364.11371383 1137.60584543  588.85354722 1177.24516099  829.66559735\n",
            " 1098.29484013 1097.40112261  584.34383132  963.94289941  546.0288109\n",
            " 1048.6150015  1135.06379964  978.00811662 1208.96634832  557.08935668\n",
            "  289.29888844  304.79572804  746.34028285 1011.38124245  406.51257369\n",
            "  299.05909398  756.02556168  272.37907331  947.14635675  582.35092333\n",
            "  530.49204806  545.64070315  565.20761867  331.99476506 1057.11783014\n",
            " 1203.51333779  416.9356541  1131.47435578  322.87450477  544.64908052\n",
            " 1050.33783131  310.39424758  726.79574131  291.68732233 1471.55223538\n",
            " 1176.14642358  314.03264047  289.92224656  586.37099348 1139.71151318\n",
            "  294.68857645 1020.55236275 1150.96584009  290.89364712  304.86296951\n",
            "  506.78418804 1129.48454306  287.11309207 1264.48336371  544.93650162\n",
            "  295.42575138  365.36674017  343.88358474  860.26863756  390.20231495\n",
            "  253.61868766  696.52130689  776.8211466   355.66122592  266.95272898\n",
            " 1150.05971678  428.25946296 1204.98774649  728.32131413  588.39358743\n",
            "  547.60385637 1347.61706416  538.87709508  534.28003319  926.20029371\n",
            "  778.62581985  571.6069637   413.72434195  533.24420031 1090.1943998\n",
            "  532.76386782  302.60118919 1439.85980524  559.23471374 1313.20325341\n",
            "  532.71514774  443.63470585  398.98946538  410.17482328  289.60758188\n",
            "  751.17933999  542.57977004  459.26607905 1260.46417076 1129.31528467\n",
            "  278.05421414  544.01429847 1192.78234374  542.0242516   779.22920468\n",
            "  763.82021743  532.7591018   691.52836469  743.79481043 1249.52703539\n",
            "  296.4846507   264.01916269  513.39378844  390.63655811 1105.90025401\n",
            "  442.1589511   845.47490249 1304.24721263  552.50866762  669.00919653\n",
            "  514.24501309 1199.6685437   291.51605534  951.15197675  566.89752768\n",
            "  675.17004985  946.89455612  444.15416336  543.83317254 1056.27227745\n",
            " 1126.02397443  965.2185363  1206.44890268  514.99107179  373.43882172\n",
            "  321.57227748  730.88654673 1295.15344316  855.12595541  550.72350585\n",
            "  596.78773835  841.12292229  359.12594694  396.54426045  302.69976771\n",
            "  657.74711748  398.90637864 1220.24840767 1039.81763157  526.21361566\n",
            " 1020.5278828   839.56489882  289.62815615  397.26348347 1046.8523879\n",
            "  422.57597885  313.41830302  299.46437897 1061.36983447  602.03112496\n",
            "  706.28703177  775.51729539 1103.03661789  304.03767616  296.72578277\n",
            " 1139.99427276 1043.07882527  307.18441246  842.34511454  444.66490028\n",
            " 1074.72221016  259.94088102  652.37110708  308.36237802  299.1621457\n",
            "  821.73847401  532.04406389  663.89535057  444.40928569  308.36358562\n",
            "  709.81471945 1102.9126306   997.26704835  544.63072145  594.27378808\n",
            "  292.21482976 1195.1677515   339.26705838  360.30653895  828.65229273\n",
            "  405.49469205  808.59242949  760.52038244 1193.32347945  575.35284778\n",
            "  755.49051317  665.29287821  285.25788017  791.08502563 1131.79627899\n",
            "  826.28842572  555.03373275  657.32838675  358.04868271  547.62988957\n",
            "  724.47122996  300.52519486  928.54797132  822.97831631  823.27128313\n",
            "  564.7692433   409.96450626  342.74824277  302.51284356 1067.78031891\n",
            "  318.52516707  604.18764823  741.68414385  555.19600577  969.30371831\n",
            "  780.47779566  297.68749996 1203.22938823  564.10778384 1188.01014057\n",
            "  578.33114188 1110.3402999   760.94016517 1055.41528752  303.35180124\n",
            " 1316.56294058  266.48708463  369.55908342 1165.92049563  552.94800797\n",
            "  548.60918433  292.83468676  266.43921475  714.19716407 1296.2153185\n",
            " 1135.81790469 1087.78939786  825.82511534  677.18914711  603.70301775\n",
            "  432.29127898  451.91191794 1055.87943384  291.98309248  649.60626331\n",
            " 1070.10755843  271.82347116 1359.37591469  288.80120609  600.13542552\n",
            "  575.20692056  561.50234033  536.14989845  451.52704932 1154.55285119\n",
            "  591.63824543  384.03277733  803.17730586 1307.27295819  530.81645074\n",
            " 1059.91910403  593.09729858  295.18446106 1174.73563604  611.8896259\n",
            "  739.52540895  430.58038622  461.68272088  437.26949102  432.53056423\n",
            "  268.05432614 1154.02970939  393.71352371  335.9720449   551.61020184\n",
            " 1001.33757614  612.17406027 1525.12121639  313.83948105  551.4186233\n",
            " 1072.55658918 1353.5039587   587.79796255 1225.00639147  364.20442857\n",
            "  331.07442619  754.06557725  295.25633661  452.80126102  525.9316942\n",
            "  439.05548078 1302.52518651  366.79159858  591.65881168  345.34397833\n",
            " 1013.27115811  595.80309296  766.28524528  598.50643835  293.49069886\n",
            " 1103.04340077  556.68133214  437.9662941  1074.46387026  447.29866534\n",
            " 1160.77794284 1139.41203786  448.477169   1179.32882207  300.48026979\n",
            " 1059.32723393  799.10124639  307.07482767  537.01902747  616.05780213\n",
            "  297.24926046  815.16953653  445.72579186 1187.81408049  840.16240156\n",
            " 1271.81302651  554.6004074   930.2103127  1142.53583682  327.50095933\n",
            " 1197.08342064  585.48089075 1166.4830895 ]\n"
          ]
        }
      ]
    },
    {
      "cell_type": "code",
      "metadata": {
        "colab": {
          "base_uri": "https://localhost:8080/"
        },
        "id": "ypNPKB5YIXy-",
        "outputId": "64c2fa0d-111a-4572-b188-956155fddfdb"
      },
      "source": [
        "from sklearn.metrics import accuracy_score\n",
        "\n",
        "print(regression.score(X_test, Y_test))"
      ],
      "execution_count": null,
      "outputs": [
        {
          "output_type": "stream",
          "name": "stdout",
          "text": [
            "0.9998849768005834\n"
          ]
        }
      ]
    },
    {
      "cell_type": "code",
      "metadata": {
        "colab": {
          "base_uri": "https://localhost:8080/",
          "height": 455
        },
        "id": "pBmptVc2LpIf",
        "outputId": "4e354d18-1f9e-417d-f8f2-3d51a4533da1"
      },
      "source": [
        "import numpy as np\n",
        "import pandas as pd\n",
        "\n",
        "#from sklearn.metrics import r2_score\n",
        "#r2_score(Y_test, predicted)\n",
        "# Y_test = np.array(Y_test)\n",
        "# err = np.count_nonzero(np.abs(Y_test - predicted))\n",
        "# print(err)\n",
        "frame = pd.DataFrame({\"Actual\" : Y_test, \"Predicted\" : predicted})\n",
        "frame"
      ],
      "execution_count": null,
      "outputs": [
        {
          "output_type": "execute_result",
          "data": {
            "text/html": [
              "<div>\n",
              "<style scoped>\n",
              "    .dataframe tbody tr th:only-of-type {\n",
              "        vertical-align: middle;\n",
              "    }\n",
              "\n",
              "    .dataframe tbody tr th {\n",
              "        vertical-align: top;\n",
              "    }\n",
              "\n",
              "    .dataframe thead th {\n",
              "        text-align: right;\n",
              "    }\n",
              "</style>\n",
              "<table border=\"1\" class=\"dataframe\">\n",
              "  <thead>\n",
              "    <tr style=\"text-align: right;\">\n",
              "      <th></th>\n",
              "      <th>Actual</th>\n",
              "      <th>Predicted</th>\n",
              "    </tr>\n",
              "    <tr>\n",
              "      <th>Date</th>\n",
              "      <th></th>\n",
              "      <th></th>\n",
              "    </tr>\n",
              "  </thead>\n",
              "  <tbody>\n",
              "    <tr>\n",
              "      <th>2020-01-14</th>\n",
              "      <td>1430.589966</td>\n",
              "      <td>1433.256004</td>\n",
              "    </tr>\n",
              "    <tr>\n",
              "      <th>2011-09-20</th>\n",
              "      <td>273.588593</td>\n",
              "      <td>276.046950</td>\n",
              "    </tr>\n",
              "    <tr>\n",
              "      <th>2017-12-01</th>\n",
              "      <td>1025.069946</td>\n",
              "      <td>1025.734133</td>\n",
              "    </tr>\n",
              "    <tr>\n",
              "      <th>2018-10-04</th>\n",
              "      <td>1177.069946</td>\n",
              "      <td>1174.224933</td>\n",
              "    </tr>\n",
              "    <tr>\n",
              "      <th>2015-07-16</th>\n",
              "      <td>601.780029</td>\n",
              "      <td>600.210262</td>\n",
              "    </tr>\n",
              "    <tr>\n",
              "      <th>...</th>\n",
              "      <td>...</td>\n",
              "      <td>...</td>\n",
              "    </tr>\n",
              "    <tr>\n",
              "      <th>2019-05-24</th>\n",
              "      <td>1138.609985</td>\n",
              "      <td>1142.535837</td>\n",
              "    </tr>\n",
              "    <tr>\n",
              "      <th>2012-11-14</th>\n",
              "      <td>326.601593</td>\n",
              "      <td>327.500959</td>\n",
              "    </tr>\n",
              "    <tr>\n",
              "      <th>2019-04-01</th>\n",
              "      <td>1198.979980</td>\n",
              "      <td>1197.083421</td>\n",
              "    </tr>\n",
              "    <tr>\n",
              "      <th>2014-06-27</th>\n",
              "      <td>585.690002</td>\n",
              "      <td>585.480891</td>\n",
              "    </tr>\n",
              "    <tr>\n",
              "      <th>2018-09-17</th>\n",
              "      <td>1159.829956</td>\n",
              "      <td>1166.483089</td>\n",
              "    </tr>\n",
              "  </tbody>\n",
              "</table>\n",
              "<p>778 rows × 2 columns</p>\n",
              "</div>"
            ],
            "text/plain": [
              "                 Actual    Predicted\n",
              "Date                                \n",
              "2020-01-14  1430.589966  1433.256004\n",
              "2011-09-20   273.588593   276.046950\n",
              "2017-12-01  1025.069946  1025.734133\n",
              "2018-10-04  1177.069946  1174.224933\n",
              "2015-07-16   601.780029   600.210262\n",
              "...                 ...          ...\n",
              "2019-05-24  1138.609985  1142.535837\n",
              "2012-11-14   326.601593   327.500959\n",
              "2019-04-01  1198.979980  1197.083421\n",
              "2014-06-27   585.690002   585.480891\n",
              "2018-09-17  1159.829956  1166.483089\n",
              "\n",
              "[778 rows x 2 columns]"
            ]
          },
          "metadata": {},
          "execution_count": 11
        }
      ]
    },
    {
      "cell_type": "code",
      "metadata": {
        "colab": {
          "base_uri": "https://localhost:8080/",
          "height": 279
        },
        "id": "pV442m6bT0Iq",
        "outputId": "490a730a-7098-42db-dde2-09d5bd348d39"
      },
      "source": [
        "import matplotlib.pyplot as plt\n",
        "plt.scatter(frame.Actual, frame.Predicted,  color='Red')\n",
        "plt.xlabel(\"Actual Price\")\n",
        "plt.ylabel(\"Predicted Price\")\n",
        "plt.show()"
      ],
      "execution_count": null,
      "outputs": [
        {
          "output_type": "display_data",
          "data": {
            "image/png": "[encoded data removed]",
            "text/plain": [
              "<Figure size 432x288 with 1 Axes>"
            ]
          },
          "metadata": {
            "needs_background": "light"
          }
        }
      ]
    },
    {
      "cell_type": "code",
      "metadata": {
        "colab": {
          "base_uri": "https://localhost:8080/",
          "height": 286
        },
        "id": "75r04ztNUJRA",
        "outputId": "de43464c-fe50-4d21-dd39-cb7671c70d0c"
      },
      "source": [
        "frame.plot()\n",
        "#plt.plot(frame.Predicted, color='lightblue')\n",
        "#plt.legend()"
      ],
      "execution_count": null,
      "outputs": [
        {
          "output_type": "execute_result",
          "data": {
            "text/plain": [
              "<matplotlib.axes._subplots.AxesSubplot at 0x7f2545011c90>"
            ]
          },
          "metadata": {},
          "execution_count": 13
        },
        {
          "output_type": "display_data",
          "data": {
            "image/png": "[encoded data removed]",
            "text/plain": [
              "<Figure size 432x288 with 1 Axes>"
            ]
          },
          "metadata": {
            "needs_background": "light"
          }
        }
      ]
    },
    {
      "cell_type": "markdown",
      "metadata": {
        "id": "dArxq9tbTOQB"
      },
      "source": [
        "# **KNN Regression**"
      ]
    },
    {
      "cell_type": "code",
      "metadata": {
        "colab": {
          "base_uri": "https://localhost:8080/"
        },
        "id": "4xVj9ZnZBQsS",
        "outputId": "778e3364-8520-4483-dd13-461709d12056"
      },
      "source": [
        "X_train.head()"
      ],
      "execution_count": null,
      "outputs": [
        {
          "output_type": "execute_result",
          "data": {
            "text/html": [
              "<div>\n",
              "<style scoped>\n",
              "    .dataframe tbody tr th:only-of-type {\n",
              "        vertical-align: middle;\n",
              "    }\n",
              "\n",
              "    .dataframe tbody tr th {\n",
              "        vertical-align: top;\n",
              "    }\n",
              "\n",
              "    .dataframe thead th {\n",
              "        text-align: right;\n",
              "    }\n",
              "</style>\n",
              "<table border=\"1\" class=\"dataframe\">\n",
              "  <thead>\n",
              "    <tr style=\"text-align: right;\">\n",
              "      <th></th>\n",
              "      <th>Open</th>\n",
              "      <th>High</th>\n",
              "      <th>Low</th>\n",
              "      <th>Volume</th>\n",
              "    </tr>\n",
              "    <tr>\n",
              "      <th>Date</th>\n",
              "      <th></th>\n",
              "      <th></th>\n",
              "      <th></th>\n",
              "      <th></th>\n",
              "    </tr>\n",
              "  </thead>\n",
              "  <tbody>\n",
              "    <tr>\n",
              "      <th>2018-05-22</th>\n",
              "      <td>1089.800049</td>\n",
              "      <td>1091.800049</td>\n",
              "      <td>1072.260010</td>\n",
              "      <td>1111300</td>\n",
              "    </tr>\n",
              "    <tr>\n",
              "      <th>2015-12-14</th>\n",
              "      <td>751.260010</td>\n",
              "      <td>764.150024</td>\n",
              "      <td>736.260010</td>\n",
              "      <td>2693200</td>\n",
              "    </tr>\n",
              "    <tr>\n",
              "      <th>2016-10-12</th>\n",
              "      <td>811.960022</td>\n",
              "      <td>814.500000</td>\n",
              "      <td>808.549988</td>\n",
              "      <td>907900</td>\n",
              "    </tr>\n",
              "    <tr>\n",
              "      <th>2014-12-08</th>\n",
              "      <td>529.219971</td>\n",
              "      <td>533.820007</td>\n",
              "      <td>527.000000</td>\n",
              "      <td>3228300</td>\n",
              "    </tr>\n",
              "    <tr>\n",
              "      <th>2011-12-07</th>\n",
              "      <td>311.151154</td>\n",
              "      <td>313.143158</td>\n",
              "      <td>309.359344</td>\n",
              "      <td>4510085</td>\n",
              "    </tr>\n",
              "  </tbody>\n",
              "</table>\n",
              "</div>"
            ],
            "text/plain": [
              "                   Open         High          Low   Volume\n",
              "Date                                                      \n",
              "2018-05-22  1089.800049  1091.800049  1072.260010  1111300\n",
              "2015-12-14   751.260010   764.150024   736.260010  2693200\n",
              "2016-10-12   811.960022   814.500000   808.549988   907900\n",
              "2014-12-08   529.219971   533.820007   527.000000  3228300\n",
              "2011-12-07   311.151154   313.143158   309.359344  4510085"
            ]
          },
          "metadata": {},
          "execution_count": 14
        }
      ]
    },
    {
      "cell_type": "code",
      "metadata": {
        "id": "wSh7Rr39BTa5"
      },
      "source": [
        "Y_train = Y_train.to_frame()"
      ],
      "execution_count": null,
      "outputs": []
    },
    {
      "cell_type": "code",
      "metadata": {
        "id": "CwGlEJqNBrzV",
        "colab": {
          "base_uri": "https://localhost:8080/"
        },
        "outputId": "d1971bc3-a502-4a09-9efd-52a5e9f9f0d4"
      },
      "source": [
        "Y_train"
      ],
      "execution_count": null,
      "outputs": [
        {
          "output_type": "execute_result",
          "data": {
            "text/html": [
              "<div>\n",
              "<style scoped>\n",
              "    .dataframe tbody tr th:only-of-type {\n",
              "        vertical-align: middle;\n",
              "    }\n",
              "\n",
              "    .dataframe tbody tr th {\n",
              "        vertical-align: top;\n",
              "    }\n",
              "\n",
              "    .dataframe thead th {\n",
              "        text-align: right;\n",
              "    }\n",
              "</style>\n",
              "<table border=\"1\" class=\"dataframe\">\n",
              "  <thead>\n",
              "    <tr style=\"text-align: right;\">\n",
              "      <th></th>\n",
              "      <th>Close</th>\n",
              "    </tr>\n",
              "    <tr>\n",
              "      <th>Date</th>\n",
              "      <th></th>\n",
              "    </tr>\n",
              "  </thead>\n",
              "  <tbody>\n",
              "    <tr>\n",
              "      <th>2018-05-22</th>\n",
              "      <td>1075.310059</td>\n",
              "    </tr>\n",
              "    <tr>\n",
              "      <th>2015-12-14</th>\n",
              "      <td>762.539978</td>\n",
              "    </tr>\n",
              "    <tr>\n",
              "      <th>2016-10-12</th>\n",
              "      <td>811.770020</td>\n",
              "    </tr>\n",
              "    <tr>\n",
              "      <th>2014-12-08</th>\n",
              "      <td>530.729980</td>\n",
              "    </tr>\n",
              "    <tr>\n",
              "      <th>2011-12-07</th>\n",
              "      <td>312.007019</td>\n",
              "    </tr>\n",
              "    <tr>\n",
              "      <th>...</th>\n",
              "      <td>...</td>\n",
              "    </tr>\n",
              "    <tr>\n",
              "      <th>2012-03-15</th>\n",
              "      <td>310.875885</td>\n",
              "    </tr>\n",
              "    <tr>\n",
              "      <th>2017-04-26</th>\n",
              "      <td>889.140015</td>\n",
              "    </tr>\n",
              "    <tr>\n",
              "      <th>2018-09-06</th>\n",
              "      <td>1183.989990</td>\n",
              "    </tr>\n",
              "    <tr>\n",
              "      <th>2012-12-11</th>\n",
              "      <td>348.788788</td>\n",
              "    </tr>\n",
              "    <tr>\n",
              "      <th>2016-09-22</th>\n",
              "      <td>815.950012</td>\n",
              "    </tr>\n",
              "  </tbody>\n",
              "</table>\n",
              "<p>1577 rows × 1 columns</p>\n",
              "</div>"
            ],
            "text/plain": [
              "                  Close\n",
              "Date                   \n",
              "2018-05-22  1075.310059\n",
              "2015-12-14   762.539978\n",
              "2016-10-12   811.770020\n",
              "2014-12-08   530.729980\n",
              "2011-12-07   312.007019\n",
              "...                 ...\n",
              "2012-03-15   310.875885\n",
              "2017-04-26   889.140015\n",
              "2018-09-06  1183.989990\n",
              "2012-12-11   348.788788\n",
              "2016-09-22   815.950012\n",
              "\n",
              "[1577 rows x 1 columns]"
            ]
          },
          "metadata": {},
          "execution_count": 16
        }
      ]
    },
    {
      "cell_type": "code",
      "metadata": {
        "id": "RyA4-Tm2Hy2p"
      },
      "source": [
        "Y_test = Y_test.to_frame()"
      ],
      "execution_count": null,
      "outputs": []
    },
    {
      "cell_type": "code",
      "metadata": {
        "colab": {
          "base_uri": "https://localhost:8080/"
        },
        "id": "JXSDZ2vTLl0E",
        "outputId": "abb7cdd1-5911-403b-f70a-e97a93f3da09"
      },
      "source": [
        "Y_test"
      ],
      "execution_count": null,
      "outputs": [
        {
          "output_type": "execute_result",
          "data": {
            "text/html": [
              "<div>\n",
              "<style scoped>\n",
              "    .dataframe tbody tr th:only-of-type {\n",
              "        vertical-align: middle;\n",
              "    }\n",
              "\n",
              "    .dataframe tbody tr th {\n",
              "        vertical-align: top;\n",
              "    }\n",
              "\n",
              "    .dataframe thead th {\n",
              "        text-align: right;\n",
              "    }\n",
              "</style>\n",
              "<table border=\"1\" class=\"dataframe\">\n",
              "  <thead>\n",
              "    <tr style=\"text-align: right;\">\n",
              "      <th></th>\n",
              "      <th>Close</th>\n",
              "    </tr>\n",
              "    <tr>\n",
              "      <th>Date</th>\n",
              "      <th></th>\n",
              "    </tr>\n",
              "  </thead>\n",
              "  <tbody>\n",
              "    <tr>\n",
              "      <th>2020-01-14</th>\n",
              "      <td>1430.589966</td>\n",
              "    </tr>\n",
              "    <tr>\n",
              "      <th>2011-09-20</th>\n",
              "      <td>273.588593</td>\n",
              "    </tr>\n",
              "    <tr>\n",
              "      <th>2017-12-01</th>\n",
              "      <td>1025.069946</td>\n",
              "    </tr>\n",
              "    <tr>\n",
              "      <th>2018-10-04</th>\n",
              "      <td>1177.069946</td>\n",
              "    </tr>\n",
              "    <tr>\n",
              "      <th>2015-07-16</th>\n",
              "      <td>601.780029</td>\n",
              "    </tr>\n",
              "    <tr>\n",
              "      <th>...</th>\n",
              "      <td>...</td>\n",
              "    </tr>\n",
              "    <tr>\n",
              "      <th>2019-05-24</th>\n",
              "      <td>1138.609985</td>\n",
              "    </tr>\n",
              "    <tr>\n",
              "      <th>2012-11-14</th>\n",
              "      <td>326.601593</td>\n",
              "    </tr>\n",
              "    <tr>\n",
              "      <th>2019-04-01</th>\n",
              "      <td>1198.979980</td>\n",
              "    </tr>\n",
              "    <tr>\n",
              "      <th>2014-06-27</th>\n",
              "      <td>585.690002</td>\n",
              "    </tr>\n",
              "    <tr>\n",
              "      <th>2018-09-17</th>\n",
              "      <td>1159.829956</td>\n",
              "    </tr>\n",
              "  </tbody>\n",
              "</table>\n",
              "<p>778 rows × 1 columns</p>\n",
              "</div>"
            ],
            "text/plain": [
              "                  Close\n",
              "Date                   \n",
              "2020-01-14  1430.589966\n",
              "2011-09-20   273.588593\n",
              "2017-12-01  1025.069946\n",
              "2018-10-04  1177.069946\n",
              "2015-07-16   601.780029\n",
              "...                 ...\n",
              "2019-05-24  1138.609985\n",
              "2012-11-14   326.601593\n",
              "2019-04-01  1198.979980\n",
              "2014-06-27   585.690002\n",
              "2018-09-17  1159.829956\n",
              "\n",
              "[778 rows x 1 columns]"
            ]
          },
          "metadata": {},
          "execution_count": 18
        }
      ]
    },
    {
      "cell_type": "code",
      "metadata": {
        "id": "7rNfHni5_yxQ",
        "colab": {
          "base_uri": "https://localhost:8080/"
        },
        "outputId": "bb268a0a-5bf9-42de-c036-8dc21cf301dd"
      },
      "source": [
        "from sklearn.neighbors import KNeighborsRegressor\n",
        "from sklearn.metrics import accuracy_score\n",
        "from sklearn.metrics import mean_squared_error\n",
        "from math import sqrt\n",
        "\n",
        "rmse_val = []\n",
        "for i in range(1,17):\n",
        "  knn = KNeighborsRegressor(n_neighbors = i)\n",
        "\n",
        "  # fit the model\n",
        "  knn.fit(X_train, Y_train)\n",
        "\n",
        "  #knn.predict(X_train)\n",
        "  predicted = knn.predict(X_test)\n",
        "  # print(predicted)\n",
        "  # print(Y_test)\n",
        "\n",
        "  error = sqrt(mean_squared_error(Y_test,predicted))\n",
        "  print(\"k = \" + str(i) + \" | Error: \" + str(error))\n",
        "  rmse_val.append(error)\n",
        "  # Accuracy Score\n",
        "  # accuracy_train = knn.score(X_test, predicted)\n",
        "  #accuracy_test = knn.score(X_test, knn.predict(X_test))\n",
        "\n",
        "  # print ('Train_data Accuracy: %.2f' %accuracy_train)\n",
        "  #print ('Test_data Accuracy: %.2f' %accuracy_test)"
      ],
      "execution_count": null,
      "outputs": [
        {
          "output_type": "stream",
          "name": "stdout",
          "text": [
            "k = 1 | Error: 309.1168223099499\n",
            "k = 2 | Error: 285.2379062629679\n",
            "k = 3 | Error: 278.40340801667617\n",
            "k = 4 | Error: 273.78754335301164\n",
            "k = 5 | Error: 267.8094933069238\n",
            "k = 6 | Error: 264.6827102682697\n",
            "k = 7 | Error: 263.06267906247297\n",
            "k = 8 | Error: 260.4724627454883\n",
            "k = 9 | Error: 257.79851919780975\n",
            "k = 10 | Error: 254.8896912762669\n",
            "k = 11 | Error: 254.1677682778054\n",
            "k = 12 | Error: 254.15960554404737\n",
            "k = 13 | Error: 253.706647346926\n",
            "k = 14 | Error: 251.9136648470583\n",
            "k = 15 | Error: 250.05632677046984\n",
            "k = 16 | Error: 249.82860821652272\n"
          ]
        }
      ]
    },
    {
      "cell_type": "code",
      "metadata": {
        "colab": {
          "base_uri": "https://localhost:8080/"
        },
        "id": "yyNzv0ybSvpv",
        "outputId": "7148f132-e21a-44c4-ebb4-ef4c6bb0fd8d"
      },
      "source": [
        "curve = pd.DataFrame(rmse_val)\n",
        "curve.plot()"
      ],
      "execution_count": null,
      "outputs": [
        {
          "output_type": "execute_result",
          "data": {
            "text/plain": [
              "<matplotlib.axes._subplots.AxesSubplot at 0x7f2544f07390>"
            ]
          },
          "metadata": {},
          "execution_count": 20
        },
        {
          "output_type": "display_data",
          "data": {
            "image/png": "[encoded data removed]",
            "text/plain": [
              "<Figure size 432x288 with 1 Axes>"
            ]
          },
          "metadata": {
            "needs_background": "light"
          }
        }
      ]
    },
    {
      "cell_type": "markdown",
      "metadata": {
        "id": "k9PkSgbkeFem"
      },
      "source": [
        "# **KNN Classification**"
      ]
    },
    {
      "cell_type": "code",
      "metadata": {
        "id": "hsTxQ5358tfI"
      },
      "source": [
        "df1 = df.copy()\n",
        "df1['Open-Close'] = df1.Open - df1.Close\n",
        "df1['High-Low'] = df.High - df.Low\n",
        "df1.dropna()\n",
        "X1 = df1[['Open-Close', 'High-Low']]"
      ],
      "execution_count": null,
      "outputs": []
    },
    {
      "cell_type": "code",
      "metadata": {
        "id": "M4tUEk0dViaA"
      },
      "source": [
        "Y1 = np.where(df['Close'].shift(-1) > df['Close'],1,-1)"
      ],
      "execution_count": null,
      "outputs": []
    },
    {
      "cell_type": "code",
      "metadata": {
        "id": "lMnumvVJ9usU"
      },
      "source": [
        "split_percentage = 0.67\n",
        "split = int(split_percentage*len(df))\n",
        "\n",
        "X1_train = X1[:split]\n",
        "Y1_train = Y1[:split]\n",
        "\n",
        "X1_test = X1[split:]\n",
        "Y1_test = Y1[split:]"
      ],
      "execution_count": null,
      "outputs": []
    },
    {
      "cell_type": "code",
      "metadata": {
        "colab": {
          "base_uri": "https://localhost:8080/"
        },
        "id": "QIpaoUEeeZ5d",
        "outputId": "38c46bec-91a2-436e-e377-aea889af3ae7"
      },
      "source": [
        "from sklearn.neighbors import KNeighborsClassifier\n",
        "#for i in range(1, 17):\n",
        "knn = KNeighborsClassifier(n_neighbors = 15)\n",
        "\n",
        "# fit the model\n",
        "knn.fit(X1_train, Y1_train)\n",
        "\n",
        "# Accuracy Score\n",
        "accuracy_train = accuracy_score(Y1_train, knn.predict(X1_train))\n",
        "accuracy_test = accuracy_score(Y1_test, knn.predict(X1_test))\n",
        "\n",
        "print ('k = ' + str(15) + ' | ' + 'Train_data Accuracy: %.2f' %accuracy_train)\n",
        "print ('k = ' + str(15) + ' | ' + 'Test_data Accuracy: %.2f' %accuracy_test)"
      ],
      "execution_count": null,
      "outputs": [
        {
          "output_type": "stream",
          "name": "stdout",
          "text": [
            "k = 15 | Train_data Accuracy: 0.60\n",
            "k = 15 | Test_data Accuracy: 0.53\n"
          ]
        }
      ]
    },
    {
      "cell_type": "code",
      "metadata": {
        "colab": {
          "base_uri": "https://localhost:8080/"
        },
        "id": "SX3yRzrkeop1",
        "outputId": "c2cf18b2-4d75-4bb4-c66b-d0fb8b2f779c"
      },
      "source": [
        "df1['Predicted_Signal'] = knn.predict(X1)\n",
        "\n",
        "df1['Google_returns'] = np.log(df1['Close'] / df1['Close'].shift(1))\n",
        "Cumulative_Google_returns = df1[split:]['Google_returns'].cumsum() * 100\n",
        "\n",
        "df1['Startegy_returns'] = df1['Google_returns'] * df1['Predicted_Signal'].shift(1)\n",
        "Cumulative_Strategy_returns = df1[split:]['Startegy_returns'].cumsum() * 100\n",
        "\n",
        "# Plot the results to visualize the performance\n",
        "\n",
        "plt.figure(figsize=(10,5))\n",
        "plt.plot(Cumulative_Google_returns, color='r',label = 'Google Returns')\n",
        "plt.plot(Cumulative_Strategy_returns, color='g', label = 'Strategy Returns')\n",
        "plt.legend()\n",
        "plt.show()"
      ],
      "execution_count": null,
      "outputs": [
        {
          "output_type": "display_data",
          "data": {
            "image/png": "[encoded data removed]",
            "text/plain": [
              "<Figure size 720x360 with 1 Axes>"
            ]
          },
          "metadata": {
            "needs_background": "light"
          }
        }
      ]
    },
    {
      "cell_type": "code",
      "metadata": {
        "colab": {
          "base_uri": "https://localhost:8080/"
        },
        "id": "oPUm4W6LlKPU",
        "outputId": "bb1a5ef0-bd0d-417b-dca7-c91cbbd7613a"
      },
      "source": [
        "Std = Cumulative_Strategy_returns.std()\n",
        "Sharpe = (Cumulative_Strategy_returns - Cumulative_Google_returns) / Std\n",
        "Sharpe = Sharpe.mean()\n",
        "print('Sharpe ratio: %.2f'%Sharpe )"
      ],
      "execution_count": null,
      "outputs": [
        {
          "output_type": "stream",
          "name": "stdout",
          "text": [
            "Sharpe ratio: 0.11\n"
          ]
        }
      ]
    },
    {
      "cell_type": "markdown",
      "metadata": {
        "id": "lA9PGsAbUTzM"
      },
      "source": [
        "# **Clustering**"
      ]
    },
    {
      "cell_type": "code",
      "metadata": {
        "id": "s9ZbKlCshMY8"
      },
      "source": [
        "import seaborn as sns\n",
        "import matplotlib.pyplot as plt\n",
        "from sklearn.preprocessing import StandardScaler\n",
        "from sklearn.cluster import AgglomerativeClustering\n",
        "from sklearn.cluster import KMeans\n",
        "from scipy.cluster import hierarchy"
      ],
      "execution_count": null,
      "outputs": []
    },
    {
      "cell_type": "code",
      "metadata": {
        "colab": {
          "base_uri": "https://localhost:8080/",
          "height": 400
        },
        "id": "RoUnww8bUb0F",
        "outputId": "66eb343b-5ced-4dba-e70e-b433833bce8c"
      },
      "source": [
        "fun_df = pd.read_csv('/content/fundamentals.csv')\n",
        "fun_df.head()"
      ],
      "execution_count": null,
      "outputs": [
        {
          "output_type": "execute_result",
          "data": {
            "text/html": [
              "<div>\n",
              "<style scoped>\n",
              "    .dataframe tbody tr th:only-of-type {\n",
              "        vertical-align: middle;\n",
              "    }\n",
              "\n",
              "    .dataframe tbody tr th {\n",
              "        vertical-align: top;\n",
              "    }\n",
              "\n",
              "    .dataframe thead th {\n",
              "        text-align: right;\n",
              "    }\n",
              "</style>\n",
              "<table border=\"1\" class=\"dataframe\">\n",
              "  <thead>\n",
              "    <tr style=\"text-align: right;\">\n",
              "      <th></th>\n",
              "      <th>Unnamed: 0</th>\n",
              "      <th>Ticker Symbol</th>\n",
              "      <th>Period Ending</th>\n",
              "      <th>Accounts Payable</th>\n",
              "      <th>Accounts Receivable</th>\n",
              "      <th>Add'l income/expense items</th>\n",
              "      <th>After Tax ROE</th>\n",
              "      <th>Capital Expenditures</th>\n",
              "      <th>Capital Surplus</th>\n",
              "      <th>Cash Ratio</th>\n",
              "      <th>Cash and Cash Equivalents</th>\n",
              "      <th>Changes in Inventories</th>\n",
              "      <th>Common Stocks</th>\n",
              "      <th>Cost of Revenue</th>\n",
              "      <th>Current Ratio</th>\n",
              "      <th>Deferred Asset Charges</th>\n",
              "      <th>Deferred Liability Charges</th>\n",
              "      <th>Depreciation</th>\n",
              "      <th>Earnings Before Interest and Tax</th>\n",
              "      <th>Earnings Before Tax</th>\n",
              "      <th>Effect of Exchange Rate</th>\n",
              "      <th>Equity Earnings/Loss Unconsolidated Subsidiary</th>\n",
              "      <th>Fixed Assets</th>\n",
              "      <th>Goodwill</th>\n",
              "      <th>Gross Margin</th>\n",
              "      <th>Gross Profit</th>\n",
              "      <th>Income Tax</th>\n",
              "      <th>Intangible Assets</th>\n",
              "      <th>Interest Expense</th>\n",
              "      <th>Inventory</th>\n",
              "      <th>Investments</th>\n",
              "      <th>Liabilities</th>\n",
              "      <th>Long-Term Debt</th>\n",
              "      <th>Long-Term Investments</th>\n",
              "      <th>Minority Interest</th>\n",
              "      <th>Misc. Stocks</th>\n",
              "      <th>Net Borrowings</th>\n",
              "      <th>Net Cash Flow</th>\n",
              "      <th>Net Cash Flow-Operating</th>\n",
              "      <th>Net Cash Flows-Financing</th>\n",
              "      <th>Net Cash Flows-Investing</th>\n",
              "      <th>Net Income</th>\n",
              "      <th>Net Income Adjustments</th>\n",
              "      <th>Net Income Applicable to Common Shareholders</th>\n",
              "      <th>Net Income-Cont. Operations</th>\n",
              "      <th>Net Receivables</th>\n",
              "      <th>Non-Recurring Items</th>\n",
              "      <th>Operating Income</th>\n",
              "      <th>Operating Margin</th>\n",
              "      <th>Other Assets</th>\n",
              "      <th>Other Current Assets</th>\n",
              "      <th>Other Current Liabilities</th>\n",
              "      <th>Other Equity</th>\n",
              "      <th>Other Financing Activities</th>\n",
              "      <th>Other Investing Activities</th>\n",
              "      <th>Other Liabilities</th>\n",
              "      <th>Other Operating Activities</th>\n",
              "      <th>Other Operating Items</th>\n",
              "      <th>Pre-Tax Margin</th>\n",
              "      <th>Pre-Tax ROE</th>\n",
              "      <th>Profit Margin</th>\n",
              "      <th>Quick Ratio</th>\n",
              "      <th>Research and Development</th>\n",
              "      <th>Retained Earnings</th>\n",
              "      <th>Sale and Purchase of Stock</th>\n",
              "      <th>Sales, General and Admin.</th>\n",
              "      <th>Short-Term Debt / Current Portion of Long-Term Debt</th>\n",
              "      <th>Short-Term Investments</th>\n",
              "      <th>Total Assets</th>\n",
              "      <th>Total Current Assets</th>\n",
              "      <th>Total Current Liabilities</th>\n",
              "      <th>Total Equity</th>\n",
              "      <th>Total Liabilities</th>\n",
              "      <th>Total Liabilities &amp; Equity</th>\n",
              "      <th>Total Revenue</th>\n",
              "      <th>Treasury Stock</th>\n",
              "      <th>For Year</th>\n",
              "      <th>Earnings Per Share</th>\n",
              "      <th>Estimated Shares Outstanding</th>\n",
              "    </tr>\n",
              "  </thead>\n",
              "  <tbody>\n",
              "    <tr>\n",
              "      <th>0</th>\n",
              "      <td>0</td>\n",
              "      <td>AAL</td>\n",
              "      <td>2012-12-31</td>\n",
              "      <td>3.068000e+09</td>\n",
              "      <td>-222000000.0</td>\n",
              "      <td>-1.961000e+09</td>\n",
              "      <td>23.0</td>\n",
              "      <td>-1.888000e+09</td>\n",
              "      <td>4.695000e+09</td>\n",
              "      <td>53.0</td>\n",
              "      <td>1.330000e+09</td>\n",
              "      <td>0.0</td>\n",
              "      <td>127000000.0</td>\n",
              "      <td>1.049900e+10</td>\n",
              "      <td>78.0</td>\n",
              "      <td>0.000000e+00</td>\n",
              "      <td>223000000.0</td>\n",
              "      <td>1.001000e+09</td>\n",
              "      <td>-1.813000e+09</td>\n",
              "      <td>-2.445000e+09</td>\n",
              "      <td>0.0</td>\n",
              "      <td>0.0</td>\n",
              "      <td>1.340200e+10</td>\n",
              "      <td>0.000000e+00</td>\n",
              "      <td>58.0</td>\n",
              "      <td>1.435600e+10</td>\n",
              "      <td>-5.690000e+08</td>\n",
              "      <td>8.690000e+08</td>\n",
              "      <td>632000000.0</td>\n",
              "      <td>5.800000e+08</td>\n",
              "      <td>3.060000e+08</td>\n",
              "      <td>4.730000e+08</td>\n",
              "      <td>7.116000e+09</td>\n",
              "      <td>0.0</td>\n",
              "      <td>0.0</td>\n",
              "      <td>0.0</td>\n",
              "      <td>-1.020000e+09</td>\n",
              "      <td>197000000.0</td>\n",
              "      <td>1.285000e+09</td>\n",
              "      <td>4.830000e+08</td>\n",
              "      <td>-1.571000e+09</td>\n",
              "      <td>-1.876000e+09</td>\n",
              "      <td>2.050000e+09</td>\n",
              "      <td>-1.876000e+09</td>\n",
              "      <td>-4.084000e+09</td>\n",
              "      <td>1.124000e+09</td>\n",
              "      <td>3.860000e+08</td>\n",
              "      <td>1.480000e+08</td>\n",
              "      <td>1.0</td>\n",
              "      <td>2.167000e+09</td>\n",
              "      <td>6.260000e+08</td>\n",
              "      <td>4.524000e+09</td>\n",
              "      <td>-2.980000e+09</td>\n",
              "      <td>1.509000e+09</td>\n",
              "      <td>11000000.0</td>\n",
              "      <td>1.514700e+10</td>\n",
              "      <td>-141000000.0</td>\n",
              "      <td>8.450000e+08</td>\n",
              "      <td>10.0</td>\n",
              "      <td>31.0</td>\n",
              "      <td>8.0</td>\n",
              "      <td>72.0</td>\n",
              "      <td>0.0</td>\n",
              "      <td>-9.462000e+09</td>\n",
              "      <td>0.000000e+00</td>\n",
              "      <td>1.297700e+10</td>\n",
              "      <td>1.419000e+09</td>\n",
              "      <td>3.412000e+09</td>\n",
              "      <td>2.351000e+10</td>\n",
              "      <td>7.072000e+09</td>\n",
              "      <td>9.011000e+09</td>\n",
              "      <td>-7.987000e+09</td>\n",
              "      <td>2.489100e+10</td>\n",
              "      <td>1.690400e+10</td>\n",
              "      <td>2.485500e+10</td>\n",
              "      <td>-367000000.0</td>\n",
              "      <td>2012.0</td>\n",
              "      <td>-5.60</td>\n",
              "      <td>3.350000e+08</td>\n",
              "    </tr>\n",
              "    <tr>\n",
              "      <th>1</th>\n",
              "      <td>1</td>\n",
              "      <td>AAL</td>\n",
              "      <td>2013-12-31</td>\n",
              "      <td>4.975000e+09</td>\n",
              "      <td>-93000000.0</td>\n",
              "      <td>-2.723000e+09</td>\n",
              "      <td>67.0</td>\n",
              "      <td>-3.114000e+09</td>\n",
              "      <td>1.059200e+10</td>\n",
              "      <td>75.0</td>\n",
              "      <td>2.175000e+09</td>\n",
              "      <td>0.0</td>\n",
              "      <td>5000000.0</td>\n",
              "      <td>1.101900e+10</td>\n",
              "      <td>104.0</td>\n",
              "      <td>0.000000e+00</td>\n",
              "      <td>935000000.0</td>\n",
              "      <td>1.020000e+09</td>\n",
              "      <td>-1.324000e+09</td>\n",
              "      <td>-2.180000e+09</td>\n",
              "      <td>0.0</td>\n",
              "      <td>0.0</td>\n",
              "      <td>1.925900e+10</td>\n",
              "      <td>4.086000e+09</td>\n",
              "      <td>59.0</td>\n",
              "      <td>1.572400e+10</td>\n",
              "      <td>-3.460000e+08</td>\n",
              "      <td>2.311000e+09</td>\n",
              "      <td>856000000.0</td>\n",
              "      <td>1.012000e+09</td>\n",
              "      <td>-1.181000e+09</td>\n",
              "      <td>-2.350000e+08</td>\n",
              "      <td>1.535300e+10</td>\n",
              "      <td>0.0</td>\n",
              "      <td>0.0</td>\n",
              "      <td>0.0</td>\n",
              "      <td>2.208000e+09</td>\n",
              "      <td>660000000.0</td>\n",
              "      <td>6.750000e+08</td>\n",
              "      <td>3.799000e+09</td>\n",
              "      <td>-3.814000e+09</td>\n",
              "      <td>-1.834000e+09</td>\n",
              "      <td>1.873000e+09</td>\n",
              "      <td>-1.834000e+09</td>\n",
              "      <td>-4.489000e+09</td>\n",
              "      <td>1.560000e+09</td>\n",
              "      <td>5.590000e+08</td>\n",
              "      <td>1.399000e+09</td>\n",
              "      <td>5.0</td>\n",
              "      <td>2.299000e+09</td>\n",
              "      <td>1.465000e+09</td>\n",
              "      <td>7.385000e+09</td>\n",
              "      <td>-2.032000e+09</td>\n",
              "      <td>1.711000e+09</td>\n",
              "      <td>481000000.0</td>\n",
              "      <td>1.491500e+10</td>\n",
              "      <td>-56000000.0</td>\n",
              "      <td>8.530000e+08</td>\n",
              "      <td>8.0</td>\n",
              "      <td>80.0</td>\n",
              "      <td>7.0</td>\n",
              "      <td>96.0</td>\n",
              "      <td>0.0</td>\n",
              "      <td>-1.129600e+10</td>\n",
              "      <td>0.000000e+00</td>\n",
              "      <td>1.291300e+10</td>\n",
              "      <td>1.446000e+09</td>\n",
              "      <td>8.111000e+09</td>\n",
              "      <td>4.227800e+10</td>\n",
              "      <td>1.432300e+10</td>\n",
              "      <td>1.380600e+10</td>\n",
              "      <td>-2.731000e+09</td>\n",
              "      <td>4.500900e+10</td>\n",
              "      <td>4.227800e+10</td>\n",
              "      <td>2.674300e+10</td>\n",
              "      <td>0.0</td>\n",
              "      <td>2013.0</td>\n",
              "      <td>-11.25</td>\n",
              "      <td>1.630222e+08</td>\n",
              "    </tr>\n",
              "    <tr>\n",
              "      <th>2</th>\n",
              "      <td>2</td>\n",
              "      <td>AAL</td>\n",
              "      <td>2014-12-31</td>\n",
              "      <td>4.668000e+09</td>\n",
              "      <td>-160000000.0</td>\n",
              "      <td>-1.500000e+08</td>\n",
              "      <td>143.0</td>\n",
              "      <td>-5.311000e+09</td>\n",
              "      <td>1.513500e+10</td>\n",
              "      <td>60.0</td>\n",
              "      <td>1.768000e+09</td>\n",
              "      <td>0.0</td>\n",
              "      <td>7000000.0</td>\n",
              "      <td>1.562000e+10</td>\n",
              "      <td>88.0</td>\n",
              "      <td>0.000000e+00</td>\n",
              "      <td>829000000.0</td>\n",
              "      <td>1.342000e+09</td>\n",
              "      <td>4.099000e+09</td>\n",
              "      <td>3.212000e+09</td>\n",
              "      <td>0.0</td>\n",
              "      <td>0.0</td>\n",
              "      <td>2.308400e+10</td>\n",
              "      <td>4.091000e+09</td>\n",
              "      <td>63.0</td>\n",
              "      <td>2.703000e+10</td>\n",
              "      <td>3.300000e+08</td>\n",
              "      <td>2.240000e+09</td>\n",
              "      <td>887000000.0</td>\n",
              "      <td>1.004000e+09</td>\n",
              "      <td>1.799000e+09</td>\n",
              "      <td>-1.026000e+09</td>\n",
              "      <td>1.604300e+10</td>\n",
              "      <td>0.0</td>\n",
              "      <td>0.0</td>\n",
              "      <td>0.0</td>\n",
              "      <td>1.700000e+08</td>\n",
              "      <td>-146000000.0</td>\n",
              "      <td>3.080000e+09</td>\n",
              "      <td>-3.150000e+08</td>\n",
              "      <td>-2.911000e+09</td>\n",
              "      <td>2.882000e+09</td>\n",
              "      <td>5.420000e+08</td>\n",
              "      <td>2.882000e+09</td>\n",
              "      <td>2.882000e+09</td>\n",
              "      <td>1.771000e+09</td>\n",
              "      <td>8.000000e+08</td>\n",
              "      <td>4.249000e+09</td>\n",
              "      <td>10.0</td>\n",
              "      <td>2.060000e+09</td>\n",
              "      <td>8.980000e+08</td>\n",
              "      <td>7.059000e+09</td>\n",
              "      <td>-4.559000e+09</td>\n",
              "      <td>8.170000e+08</td>\n",
              "      <td>601000000.0</td>\n",
              "      <td>1.092800e+10</td>\n",
              "      <td>-500000000.0</td>\n",
              "      <td>1.295000e+09</td>\n",
              "      <td>8.0</td>\n",
              "      <td>159.0</td>\n",
              "      <td>7.0</td>\n",
              "      <td>80.0</td>\n",
              "      <td>0.0</td>\n",
              "      <td>-8.562000e+09</td>\n",
              "      <td>-1.052000e+09</td>\n",
              "      <td>2.068600e+10</td>\n",
              "      <td>1.677000e+09</td>\n",
              "      <td>6.309000e+09</td>\n",
              "      <td>4.322500e+10</td>\n",
              "      <td>1.175000e+10</td>\n",
              "      <td>1.340400e+10</td>\n",
              "      <td>2.021000e+09</td>\n",
              "      <td>4.120400e+10</td>\n",
              "      <td>4.322500e+10</td>\n",
              "      <td>4.265000e+10</td>\n",
              "      <td>0.0</td>\n",
              "      <td>2014.0</td>\n",
              "      <td>4.02</td>\n",
              "      <td>7.169154e+08</td>\n",
              "    </tr>\n",
              "    <tr>\n",
              "      <th>3</th>\n",
              "      <td>3</td>\n",
              "      <td>AAL</td>\n",
              "      <td>2015-12-31</td>\n",
              "      <td>5.102000e+09</td>\n",
              "      <td>352000000.0</td>\n",
              "      <td>-7.080000e+08</td>\n",
              "      <td>135.0</td>\n",
              "      <td>-6.151000e+09</td>\n",
              "      <td>1.159100e+10</td>\n",
              "      <td>51.0</td>\n",
              "      <td>1.085000e+09</td>\n",
              "      <td>0.0</td>\n",
              "      <td>6000000.0</td>\n",
              "      <td>1.109600e+10</td>\n",
              "      <td>73.0</td>\n",
              "      <td>2.477000e+09</td>\n",
              "      <td>667000000.0</td>\n",
              "      <td>1.487000e+09</td>\n",
              "      <td>5.496000e+09</td>\n",
              "      <td>4.616000e+09</td>\n",
              "      <td>0.0</td>\n",
              "      <td>0.0</td>\n",
              "      <td>2.751000e+10</td>\n",
              "      <td>4.091000e+09</td>\n",
              "      <td>73.0</td>\n",
              "      <td>2.989400e+10</td>\n",
              "      <td>-2.994000e+09</td>\n",
              "      <td>2.249000e+09</td>\n",
              "      <td>880000000.0</td>\n",
              "      <td>8.630000e+08</td>\n",
              "      <td>4.430000e+08</td>\n",
              "      <td>-6.330000e+08</td>\n",
              "      <td>1.833000e+10</td>\n",
              "      <td>0.0</td>\n",
              "      <td>0.0</td>\n",
              "      <td>0.0</td>\n",
              "      <td>2.856000e+09</td>\n",
              "      <td>-604000000.0</td>\n",
              "      <td>6.249000e+09</td>\n",
              "      <td>-1.259000e+09</td>\n",
              "      <td>-5.594000e+09</td>\n",
              "      <td>7.610000e+09</td>\n",
              "      <td>-2.662000e+09</td>\n",
              "      <td>7.610000e+09</td>\n",
              "      <td>7.610000e+09</td>\n",
              "      <td>1.425000e+09</td>\n",
              "      <td>1.051000e+09</td>\n",
              "      <td>6.204000e+09</td>\n",
              "      <td>15.0</td>\n",
              "      <td>2.103000e+09</td>\n",
              "      <td>7.480000e+08</td>\n",
              "      <td>6.272000e+09</td>\n",
              "      <td>-4.732000e+09</td>\n",
              "      <td>9.600000e+07</td>\n",
              "      <td>114000000.0</td>\n",
              "      <td>1.017800e+10</td>\n",
              "      <td>95000000.0</td>\n",
              "      <td>1.364000e+09</td>\n",
              "      <td>11.0</td>\n",
              "      <td>82.0</td>\n",
              "      <td>19.0</td>\n",
              "      <td>67.0</td>\n",
              "      <td>0.0</td>\n",
              "      <td>-1.230000e+09</td>\n",
              "      <td>-3.846000e+09</td>\n",
              "      <td>2.127500e+10</td>\n",
              "      <td>2.231000e+09</td>\n",
              "      <td>5.864000e+09</td>\n",
              "      <td>4.841500e+10</td>\n",
              "      <td>9.985000e+09</td>\n",
              "      <td>1.360500e+10</td>\n",
              "      <td>5.635000e+09</td>\n",
              "      <td>4.278000e+10</td>\n",
              "      <td>4.841500e+10</td>\n",
              "      <td>4.099000e+10</td>\n",
              "      <td>0.0</td>\n",
              "      <td>2015.0</td>\n",
              "      <td>11.39</td>\n",
              "      <td>6.681299e+08</td>\n",
              "    </tr>\n",
              "    <tr>\n",
              "      <th>4</th>\n",
              "      <td>4</td>\n",
              "      <td>AAP</td>\n",
              "      <td>2012-12-29</td>\n",
              "      <td>2.409453e+09</td>\n",
              "      <td>-89482000.0</td>\n",
              "      <td>6.000000e+05</td>\n",
              "      <td>32.0</td>\n",
              "      <td>-2.711820e+08</td>\n",
              "      <td>5.202150e+08</td>\n",
              "      <td>23.0</td>\n",
              "      <td>5.981110e+08</td>\n",
              "      <td>-260298000.0</td>\n",
              "      <td>7000.0</td>\n",
              "      <td>3.106967e+09</td>\n",
              "      <td>124.0</td>\n",
              "      <td>0.000000e+00</td>\n",
              "      <td>0.0</td>\n",
              "      <td>1.895440e+08</td>\n",
              "      <td>6.579150e+08</td>\n",
              "      <td>6.240740e+08</td>\n",
              "      <td>0.0</td>\n",
              "      <td>0.0</td>\n",
              "      <td>1.292547e+09</td>\n",
              "      <td>7.638900e+07</td>\n",
              "      <td>50.0</td>\n",
              "      <td>3.098036e+09</td>\n",
              "      <td>2.364040e+08</td>\n",
              "      <td>2.884500e+07</td>\n",
              "      <td>33841000.0</td>\n",
              "      <td>2.308609e+09</td>\n",
              "      <td>0.000000e+00</td>\n",
              "      <td>4.263230e+08</td>\n",
              "      <td>6.044610e+08</td>\n",
              "      <td>0.0</td>\n",
              "      <td>0.0</td>\n",
              "      <td>0.0</td>\n",
              "      <td>1.774450e+08</td>\n",
              "      <td>540210000.0</td>\n",
              "      <td>6.852810e+08</td>\n",
              "      <td>1.279070e+08</td>\n",
              "      <td>-2.729780e+08</td>\n",
              "      <td>3.876700e+08</td>\n",
              "      <td>2.331100e+07</td>\n",
              "      <td>3.876700e+08</td>\n",
              "      <td>3.876700e+08</td>\n",
              "      <td>2.298660e+08</td>\n",
              "      <td>0.000000e+00</td>\n",
              "      <td>6.573150e+08</td>\n",
              "      <td>11.0</td>\n",
              "      <td>3.183300e+07</td>\n",
              "      <td>4.761400e+07</td>\n",
              "      <td>1.495580e+08</td>\n",
              "      <td>2.667000e+06</td>\n",
              "      <td>-3.349900e+07</td>\n",
              "      <td>-1796000.0</td>\n",
              "      <td>2.390210e+08</td>\n",
              "      <td>8213000.0</td>\n",
              "      <td>0.000000e+00</td>\n",
              "      <td>10.0</td>\n",
              "      <td>52.0</td>\n",
              "      <td>6.0</td>\n",
              "      <td>34.0</td>\n",
              "      <td>0.0</td>\n",
              "      <td>7.149000e+08</td>\n",
              "      <td>-1.860000e+07</td>\n",
              "      <td>2.440721e+09</td>\n",
              "      <td>6.270000e+05</td>\n",
              "      <td>0.000000e+00</td>\n",
              "      <td>4.613814e+09</td>\n",
              "      <td>3.184200e+09</td>\n",
              "      <td>2.559638e+09</td>\n",
              "      <td>1.210694e+09</td>\n",
              "      <td>3.403120e+09</td>\n",
              "      <td>4.613814e+09</td>\n",
              "      <td>6.205003e+09</td>\n",
              "      <td>-27095000.0</td>\n",
              "      <td>2012.0</td>\n",
              "      <td>5.29</td>\n",
              "      <td>7.328355e+07</td>\n",
              "    </tr>\n",
              "  </tbody>\n",
              "</table>\n",
              "</div>"
            ],
            "text/plain": [
              "   Unnamed: 0 Ticker Symbol  ... Earnings Per Share  Estimated Shares Outstanding\n",
              "0           0           AAL  ...              -5.60                  3.350000e+08\n",
              "1           1           AAL  ...             -11.25                  1.630222e+08\n",
              "2           2           AAL  ...               4.02                  7.169154e+08\n",
              "3           3           AAL  ...              11.39                  6.681299e+08\n",
              "4           4           AAP  ...               5.29                  7.328355e+07\n",
              "\n",
              "[5 rows x 79 columns]"
            ]
          },
          "metadata": {},
          "execution_count": 28
        }
      ]
    },
    {
      "cell_type": "code",
      "metadata": {
        "colab": {
          "base_uri": "https://localhost:8080/"
        },
        "id": "k42JMjiByVgO",
        "outputId": "567f48bf-b429-4efb-f3de-9d47ccb99cf4"
      },
      "source": [
        "fun_df.shape"
      ],
      "execution_count": null,
      "outputs": [
        {
          "output_type": "execute_result",
          "data": {
            "text/plain": [
              "(1781, 79)"
            ]
          },
          "metadata": {},
          "execution_count": 29
        }
      ]
    },
    {
      "cell_type": "code",
      "metadata": {
        "id": "RFRfKwcryZkT",
        "colab": {
          "base_uri": "https://localhost:8080/"
        },
        "outputId": "b034f974-3e0a-4a7a-fa0c-7f96349b5c9f"
      },
      "source": [
        "fun_df.info()"
      ],
      "execution_count": null,
      "outputs": [
        {
          "output_type": "stream",
          "name": "stdout",
          "text": [
            "<class 'pandas.core.frame.DataFrame'>\n",
            "RangeIndex: 1781 entries, 0 to 1780\n",
            "Data columns (total 79 columns):\n",
            " #   Column                                               Non-Null Count  Dtype  \n",
            "---  ------                                               --------------  -----  \n",
            " 0   Unnamed: 0                                           1781 non-null   int64  \n",
            " 1   Ticker Symbol                                        1781 non-null   object \n",
            " 2   Period Ending                                        1781 non-null   object \n",
            " 3   Accounts Payable                                     1781 non-null   float64\n",
            " 4   Accounts Receivable                                  1781 non-null   float64\n",
            " 5   Add'l income/expense items                           1781 non-null   float64\n",
            " 6   After Tax ROE                                        1781 non-null   float64\n",
            " 7   Capital Expenditures                                 1781 non-null   float64\n",
            " 8   Capital Surplus                                      1781 non-null   float64\n",
            " 9   Cash Ratio                                           1482 non-null   float64\n",
            " 10  Cash and Cash Equivalents                            1781 non-null   float64\n",
            " 11  Changes in Inventories                               1781 non-null   float64\n",
            " 12  Common Stocks                                        1781 non-null   float64\n",
            " 13  Cost of Revenue                                      1781 non-null   float64\n",
            " 14  Current Ratio                                        1482 non-null   float64\n",
            " 15  Deferred Asset Charges                               1781 non-null   float64\n",
            " 16  Deferred Liability Charges                           1781 non-null   float64\n",
            " 17  Depreciation                                         1781 non-null   float64\n",
            " 18  Earnings Before Interest and Tax                     1781 non-null   float64\n",
            " 19  Earnings Before Tax                                  1781 non-null   float64\n",
            " 20  Effect of Exchange Rate                              1781 non-null   float64\n",
            " 21  Equity Earnings/Loss Unconsolidated Subsidiary       1781 non-null   float64\n",
            " 22  Fixed Assets                                         1781 non-null   float64\n",
            " 23  Goodwill                                             1781 non-null   float64\n",
            " 24  Gross Margin                                         1781 non-null   float64\n",
            " 25  Gross Profit                                         1781 non-null   float64\n",
            " 26  Income Tax                                           1781 non-null   float64\n",
            " 27  Intangible Assets                                    1781 non-null   float64\n",
            " 28  Interest Expense                                     1781 non-null   float64\n",
            " 29  Inventory                                            1781 non-null   float64\n",
            " 30  Investments                                          1781 non-null   float64\n",
            " 31  Liabilities                                          1781 non-null   float64\n",
            " 32  Long-Term Debt                                       1781 non-null   float64\n",
            " 33  Long-Term Investments                                1781 non-null   float64\n",
            " 34  Minority Interest                                    1781 non-null   float64\n",
            " 35  Misc. Stocks                                         1781 non-null   float64\n",
            " 36  Net Borrowings                                       1781 non-null   float64\n",
            " 37  Net Cash Flow                                        1781 non-null   float64\n",
            " 38  Net Cash Flow-Operating                              1781 non-null   float64\n",
            " 39  Net Cash Flows-Financing                             1781 non-null   float64\n",
            " 40  Net Cash Flows-Investing                             1781 non-null   float64\n",
            " 41  Net Income                                           1781 non-null   float64\n",
            " 42  Net Income Adjustments                               1781 non-null   float64\n",
            " 43  Net Income Applicable to Common Shareholders         1781 non-null   float64\n",
            " 44  Net Income-Cont. Operations                          1781 non-null   float64\n",
            " 45  Net Receivables                                      1781 non-null   float64\n",
            " 46  Non-Recurring Items                                  1781 non-null   float64\n",
            " 47  Operating Income                                     1781 non-null   float64\n",
            " 48  Operating Margin                                     1781 non-null   float64\n",
            " 49  Other Assets                                         1781 non-null   float64\n",
            " 50  Other Current Assets                                 1781 non-null   float64\n",
            " 51  Other Current Liabilities                            1781 non-null   float64\n",
            " 52  Other Equity                                         1781 non-null   float64\n",
            " 53  Other Financing Activities                           1781 non-null   float64\n",
            " 54  Other Investing Activities                           1781 non-null   float64\n",
            " 55  Other Liabilities                                    1781 non-null   float64\n",
            " 56  Other Operating Activities                           1781 non-null   float64\n",
            " 57  Other Operating Items                                1781 non-null   float64\n",
            " 58  Pre-Tax Margin                                       1781 non-null   float64\n",
            " 59  Pre-Tax ROE                                          1781 non-null   float64\n",
            " 60  Profit Margin                                        1781 non-null   float64\n",
            " 61  Quick Ratio                                          1482 non-null   float64\n",
            " 62  Research and Development                             1781 non-null   float64\n",
            " 63  Retained Earnings                                    1781 non-null   float64\n",
            " 64  Sale and Purchase of Stock                           1781 non-null   float64\n",
            " 65  Sales, General and Admin.                            1781 non-null   float64\n",
            " 66  Short-Term Debt / Current Portion of Long-Term Debt  1781 non-null   float64\n",
            " 67  Short-Term Investments                               1781 non-null   float64\n",
            " 68  Total Assets                                         1781 non-null   float64\n",
            " 69  Total Current Assets                                 1781 non-null   float64\n",
            " 70  Total Current Liabilities                            1781 non-null   float64\n",
            " 71  Total Equity                                         1781 non-null   float64\n",
            " 72  Total Liabilities                                    1781 non-null   float64\n",
            " 73  Total Liabilities & Equity                           1781 non-null   float64\n",
            " 74  Total Revenue                                        1781 non-null   float64\n",
            " 75  Treasury Stock                                       1781 non-null   float64\n",
            " 76  For Year                                             1608 non-null   float64\n",
            " 77  Earnings Per Share                                   1562 non-null   float64\n",
            " 78  Estimated Shares Outstanding                         1562 non-null   float64\n",
            "dtypes: float64(76), int64(1), object(2)\n",
            "memory usage: 1.1+ MB\n"
          ]
        }
      ]
    },
    {
      "cell_type": "code",
      "metadata": {
        "id": "SdJJlhfZychU",
        "colab": {
          "base_uri": "https://localhost:8080/"
        },
        "outputId": "555ea2d7-70d6-422f-cbbf-fdad9e9b9bef"
      },
      "source": [
        "fun_df.describe"
      ],
      "execution_count": null,
      "outputs": [
        {
          "output_type": "execute_result",
          "data": {
            "text/plain": [
              "<bound method NDFrame.describe of       Unnamed: 0  ... Estimated Shares Outstanding\n",
              "0              0  ...                 3.350000e+08\n",
              "1              1  ...                 1.630222e+08\n",
              "2              2  ...                 7.169154e+08\n",
              "3              3  ...                 6.681299e+08\n",
              "4              4  ...                 7.328355e+07\n",
              "...          ...  ...                          ...\n",
              "1776        1776  ...                 2.578925e+08\n",
              "1777        1777  ...                 4.990099e+08\n",
              "1778        1778  ...                 5.025862e+08\n",
              "1779        1779  ...                 4.985294e+08\n",
              "1780        1780  ...                          NaN\n",
              "\n",
              "[1781 rows x 79 columns]>"
            ]
          },
          "metadata": {},
          "execution_count": 31
        }
      ]
    },
    {
      "cell_type": "code",
      "metadata": {
        "colab": {
          "base_uri": "https://localhost:8080/"
        },
        "id": "OhFCRSu3i7oI",
        "outputId": "ead66a45-bedc-4de8-fd4f-e457745cd2ae"
      },
      "source": [
        "fun_df.isnull().sum()"
      ],
      "execution_count": null,
      "outputs": [
        {
          "output_type": "execute_result",
          "data": {
            "text/plain": [
              "Unnamed: 0                        0\n",
              "Ticker Symbol                     0\n",
              "Period Ending                     0\n",
              "Accounts Payable                  0\n",
              "Accounts Receivable               0\n",
              "                               ... \n",
              "Total Revenue                     0\n",
              "Treasury Stock                    0\n",
              "For Year                        173\n",
              "Earnings Per Share              219\n",
              "Estimated Shares Outstanding    219\n",
              "Length: 79, dtype: int64"
            ]
          },
          "metadata": {},
          "execution_count": 32
        }
      ]
    },
    {
      "cell_type": "code",
      "metadata": {
        "colab": {
          "base_uri": "https://localhost:8080/",
          "height": 253
        },
        "id": "Em9YUFWVhOBx",
        "outputId": "09a0b7e9-b020-4e6c-d0af-75ac99131d97"
      },
      "source": [
        "plt.figure(figsize = (15, 3))\n",
        "dt = fun_df.sort_values(by = 'Net Income', ascending = False).head(50)\n",
        "\n",
        "sns.barplot(x = dt['Ticker Symbol'], y = fun_df['Net Income'], palette=(\"viridis\"), ci=None)"
      ],
      "execution_count": null,
      "outputs": [
        {
          "output_type": "execute_result",
          "data": {
            "text/plain": [
              "<matplotlib.axes._subplots.AxesSubplot at 0x7f2544f3c050>"
            ]
          },
          "metadata": {},
          "execution_count": 33
        },
        {
          "output_type": "display_data",
          "data": {
            "image/png": "[encoded data removed]",
            "text/plain": [
              "<Figure size 1080x216 with 1 Axes>"
            ]
          },
          "metadata": {
            "needs_background": "light"
          }
        }
      ]
    },
    {
      "cell_type": "code",
      "metadata": {
        "colab": {
          "base_uri": "https://localhost:8080/"
        },
        "id": "CBTgvC6siHEg",
        "outputId": "15cd07a8-3db9-40fe-d229-a5392c843e14"
      },
      "source": [
        "fun_df.drop(['Unnamed: 0', 'Ticker Symbol', 'Period Ending'],axis = 1, inplace=True)\n",
        "fun_df.dropna(axis = 1,inplace = True)\n",
        "fun_df.isnull().sum().all() == 0"
      ],
      "execution_count": null,
      "outputs": [
        {
          "output_type": "execute_result",
          "data": {
            "text/plain": [
              "True"
            ]
          },
          "metadata": {},
          "execution_count": 34
        }
      ]
    },
    {
      "cell_type": "code",
      "metadata": {
        "id": "1kpHnU-zkemZ"
      },
      "source": [
        "fun_df['Net Income'] = fun_df['Net Income'].apply(lambda x : 1 if x > 0 else 0)"
      ],
      "execution_count": null,
      "outputs": []
    },
    {
      "cell_type": "code",
      "metadata": {
        "colab": {
          "base_uri": "https://localhost:8080/"
        },
        "id": "X0lcykATkqSh",
        "outputId": "e4431306-e8eb-4d9e-f661-c23cfa7ff991"
      },
      "source": [
        "fun_df['Net Income'].value_counts()"
      ],
      "execution_count": null,
      "outputs": [
        {
          "output_type": "execute_result",
          "data": {
            "text/plain": [
              "1    1679\n",
              "0     102\n",
              "Name: Net Income, dtype: int64"
            ]
          },
          "metadata": {},
          "execution_count": 36
        }
      ]
    },
    {
      "cell_type": "code",
      "metadata": {
        "colab": {
          "base_uri": "https://localhost:8080/"
        },
        "id": "5rpGSAfjkwnS",
        "outputId": "4058a7dc-432b-4d91-dcc1-477cc25d0b65"
      },
      "source": [
        "log_columns = fun_df.skew().sort_values(ascending=False)\n",
        "log_columns = log_columns.loc[log_columns > 0.75]\n",
        "\n",
        "log_columns"
      ],
      "execution_count": null,
      "outputs": [
        {
          "output_type": "execute_result",
          "data": {
            "text/plain": [
              "Pre-Tax ROE                                            18.004280\n",
              "After Tax ROE                                          15.976369\n",
              "Other Operating Activities                             15.831375\n",
              "Minority Interest                                      15.767097\n",
              "Equity Earnings/Loss Unconsolidated Subsidiary         14.912184\n",
              "Accounts Receivable                                    14.464002\n",
              "Common Stocks                                          12.146709\n",
              "Short-Term Debt / Current Portion of Long-Term Debt    11.884716\n",
              "Non-Recurring Items                                    11.804363\n",
              "Long-Term Debt                                         11.361075\n",
              "Interest Expense                                       11.275234\n",
              "Other Liabilities                                      11.067952\n",
              "Short-Term Investments                                 10.868986\n",
              "Cash and Cash Equivalents                              10.106988\n",
              "Intangible Assets                                      10.033343\n",
              "Add'l income/expense items                              9.977077\n",
              "Other Current Liabilities                               9.888770\n",
              "Operating Margin                                        9.524875\n",
              "Other Current Assets                                    9.458864\n",
              "Retained Earnings                                       9.436694\n",
              "Long-Term Investments                                   9.253568\n",
              "Pre-Tax Margin                                          9.243132\n",
              "Total Liabilities                                       9.014799\n",
              "Other Assets                                            8.938832\n",
              "Deferred Asset Charges                                  8.858897\n",
              "Total Assets                                            8.820125\n",
              "Total Liabilities & Equity                              8.820066\n",
              "Profit Margin                                           8.794168\n",
              "Other Operating Items                                   8.781914\n",
              "Accounts Payable                                        8.729072\n",
              "Misc. Stocks                                            8.560356\n",
              "Inventory                                               7.913369\n",
              "Income Tax                                              7.406126\n",
              "Other Financing Activities                              6.972686\n",
              "Fixed Assets                                            6.827743\n",
              "Net Cash Flow-Operating                                 6.816360\n",
              "Deferred Liability Charges                              6.443886\n",
              "Cost of Revenue                                         6.247553\n",
              "Net Income-Cont. Operations                             6.199397\n",
              "Earnings Before Tax                                     6.149849\n",
              "Total Revenue                                           6.135983\n",
              "Research and Development                                5.932020\n",
              "Depreciation                                            5.832733\n",
              "Total Equity                                            5.824389\n",
              "Sales, General and Admin.                               5.750377\n",
              "Net Receivables                                         5.747119\n",
              "Operating Income                                        5.660455\n",
              "Earnings Before Interest and Tax                        5.656161\n",
              "Capital Surplus                                         5.572740\n",
              "Net Income Applicable to Common Shareholders            5.527761\n",
              "Gross Profit                                            5.167908\n",
              "Goodwill                                                5.105798\n",
              "Total Current Assets                                    4.902725\n",
              "Total Current Liabilities                               4.673913\n",
              "Net Cash Flow                                           2.798247\n",
              "Liabilities                                             1.348113\n",
              "dtype: float64"
            ]
          },
          "metadata": {},
          "execution_count": 37
        }
      ]
    },
    {
      "cell_type": "code",
      "metadata": {
        "colab": {
          "base_uri": "https://localhost:8080/"
        },
        "id": "UCBcrSNvlFsv",
        "outputId": "f38c25b1-49a3-4a09-eda9-4712cb6aa0a3"
      },
      "source": [
        "for col in log_columns.index:\n",
        "    fun_df[col] = np.log1p(fun_df[col])"
      ],
      "execution_count": null,
      "outputs": [
        {
          "output_type": "stream",
          "name": "stderr",
          "text": [
            "/usr/local/lib/python3.7/dist-packages/pandas/core/series.py:726: RuntimeWarning: invalid value encountered in log1p\n",
            "  result = getattr(ufunc, method)(*inputs, **kwargs)\n"
          ]
        }
      ]
    },
    {
      "cell_type": "code",
      "metadata": {
        "id": "3PJE9stDlKO1"
      },
      "source": [
        "fun_df.dropna(axis=1,inplace=True)"
      ],
      "execution_count": null,
      "outputs": []
    },
    {
      "cell_type": "code",
      "metadata": {
        "colab": {
          "base_uri": "https://localhost:8080/",
          "height": 333
        },
        "id": "IGYlFx3nlSpG",
        "outputId": "08a3b0b2-f470-441b-d64c-df200e66d080"
      },
      "source": [
        "sc = StandardScaler()\n",
        "feature_columns = [x for x in fun_df.columns if x not in 'Net Income']\n",
        "for col in feature_columns:\n",
        "    fun_df[col] = sc.fit_transform(fun_df[[col]])\n",
        "\n",
        "fun_df.head(4)"
      ],
      "execution_count": null,
      "outputs": [
        {
          "output_type": "execute_result",
          "data": {
            "text/html": [
              "<div>\n",
              "<style scoped>\n",
              "    .dataframe tbody tr th:only-of-type {\n",
              "        vertical-align: middle;\n",
              "    }\n",
              "\n",
              "    .dataframe tbody tr th {\n",
              "        vertical-align: top;\n",
              "    }\n",
              "\n",
              "    .dataframe thead th {\n",
              "        text-align: right;\n",
              "    }\n",
              "</style>\n",
              "<table border=\"1\" class=\"dataframe\">\n",
              "  <thead>\n",
              "    <tr style=\"text-align: right;\">\n",
              "      <th></th>\n",
              "      <th>Accounts Payable</th>\n",
              "      <th>After Tax ROE</th>\n",
              "      <th>Capital Expenditures</th>\n",
              "      <th>Cash and Cash Equivalents</th>\n",
              "      <th>Changes in Inventories</th>\n",
              "      <th>Common Stocks</th>\n",
              "      <th>Cost of Revenue</th>\n",
              "      <th>Deferred Asset Charges</th>\n",
              "      <th>Deferred Liability Charges</th>\n",
              "      <th>Effect of Exchange Rate</th>\n",
              "      <th>Fixed Assets</th>\n",
              "      <th>Goodwill</th>\n",
              "      <th>Gross Margin</th>\n",
              "      <th>Intangible Assets</th>\n",
              "      <th>Interest Expense</th>\n",
              "      <th>Inventory</th>\n",
              "      <th>Investments</th>\n",
              "      <th>Long-Term Debt</th>\n",
              "      <th>Long-Term Investments</th>\n",
              "      <th>Net Borrowings</th>\n",
              "      <th>Net Cash Flows-Financing</th>\n",
              "      <th>Net Cash Flows-Investing</th>\n",
              "      <th>Net Income</th>\n",
              "      <th>Net Income Adjustments</th>\n",
              "      <th>Net Receivables</th>\n",
              "      <th>Operating Margin</th>\n",
              "      <th>Other Assets</th>\n",
              "      <th>Other Current Assets</th>\n",
              "      <th>Other Current Liabilities</th>\n",
              "      <th>Other Equity</th>\n",
              "      <th>Other Investing Activities</th>\n",
              "      <th>Other Liabilities</th>\n",
              "      <th>Pre-Tax Margin</th>\n",
              "      <th>Pre-Tax ROE</th>\n",
              "      <th>Profit Margin</th>\n",
              "      <th>Research and Development</th>\n",
              "      <th>Sale and Purchase of Stock</th>\n",
              "      <th>Short-Term Debt / Current Portion of Long-Term Debt</th>\n",
              "      <th>Short-Term Investments</th>\n",
              "      <th>Total Assets</th>\n",
              "      <th>Total Current Assets</th>\n",
              "      <th>Total Current Liabilities</th>\n",
              "      <th>Total Liabilities</th>\n",
              "      <th>Total Liabilities &amp; Equity</th>\n",
              "      <th>Total Revenue</th>\n",
              "      <th>Treasury Stock</th>\n",
              "    </tr>\n",
              "  </thead>\n",
              "  <tbody>\n",
              "    <tr>\n",
              "      <th>0</th>\n",
              "      <td>0.350471</td>\n",
              "      <td>0.298032</td>\n",
              "      <td>-0.213511</td>\n",
              "      <td>0.241034</td>\n",
              "      <td>0.173943</td>\n",
              "      <td>0.527154</td>\n",
              "      <td>0.421161</td>\n",
              "      <td>-0.843878</td>\n",
              "      <td>0.577944</td>\n",
              "      <td>0.236681</td>\n",
              "      <td>0.585030</td>\n",
              "      <td>-1.923990</td>\n",
              "      <td>0.441848</td>\n",
              "      <td>0.653707</td>\n",
              "      <td>0.631725</td>\n",
              "      <td>0.626449</td>\n",
              "      <td>0.159882</td>\n",
              "      <td>0.417332</td>\n",
              "      <td>-1.155124</td>\n",
              "      <td>-0.285246</td>\n",
              "      <td>0.103957</td>\n",
              "      <td>0.108165</td>\n",
              "      <td>0</td>\n",
              "      <td>0.687285</td>\n",
              "      <td>0.220235</td>\n",
              "      <td>-2.189095</td>\n",
              "      <td>0.526413</td>\n",
              "      <td>0.572833</td>\n",
              "      <td>0.970659</td>\n",
              "      <td>-0.772810</td>\n",
              "      <td>0.130671</td>\n",
              "      <td>0.753169</td>\n",
              "      <td>-0.309911</td>\n",
              "      <td>0.306609</td>\n",
              "      <td>-0.265324</td>\n",
              "      <td>-0.591424</td>\n",
              "      <td>0.278553</td>\n",
              "      <td>0.681347</td>\n",
              "      <td>1.481288</td>\n",
              "      <td>0.257346</td>\n",
              "      <td>0.516882</td>\n",
              "      <td>0.602079</td>\n",
              "      <td>0.605429</td>\n",
              "      <td>0.010768</td>\n",
              "      <td>0.844206</td>\n",
              "      <td>0.254827</td>\n",
              "    </tr>\n",
              "    <tr>\n",
              "      <th>1</th>\n",
              "      <td>0.483371</td>\n",
              "      <td>1.386372</td>\n",
              "      <td>-0.625041</td>\n",
              "      <td>0.509660</td>\n",
              "      <td>0.173943</td>\n",
              "      <td>-0.110775</td>\n",
              "      <td>0.429991</td>\n",
              "      <td>-0.843878</td>\n",
              "      <td>0.727496</td>\n",
              "      <td>0.236681</td>\n",
              "      <td>0.676193</td>\n",
              "      <td>0.594736</td>\n",
              "      <td>0.481169</td>\n",
              "      <td>0.757539</td>\n",
              "      <td>0.675979</td>\n",
              "      <td>0.684640</td>\n",
              "      <td>-0.026745</td>\n",
              "      <td>0.538162</td>\n",
              "      <td>-1.155124</td>\n",
              "      <td>0.314396</td>\n",
              "      <td>0.470433</td>\n",
              "      <td>-0.103430</td>\n",
              "      <td>0</td>\n",
              "      <td>0.620815</td>\n",
              "      <td>0.285986</td>\n",
              "      <td>-0.947784</td>\n",
              "      <td>0.537275</td>\n",
              "      <td>0.683785</td>\n",
              "      <td>1.019438</td>\n",
              "      <td>-0.462277</td>\n",
              "      <td>0.278157</td>\n",
              "      <td>0.750517</td>\n",
              "      <td>-0.570529</td>\n",
              "      <td>1.203624</td>\n",
              "      <td>-0.419594</td>\n",
              "      <td>-0.591424</td>\n",
              "      <td>0.278553</td>\n",
              "      <td>0.683669</td>\n",
              "      <td>1.570064</td>\n",
              "      <td>0.696975</td>\n",
              "      <td>0.601700</td>\n",
              "      <td>0.654321</td>\n",
              "      <td>0.999837</td>\n",
              "      <td>0.697584</td>\n",
              "      <td>0.903441</td>\n",
              "      <td>0.280917</td>\n",
              "    </tr>\n",
              "    <tr>\n",
              "      <th>2</th>\n",
              "      <td>0.465859</td>\n",
              "      <td>2.170456</td>\n",
              "      <td>-1.362505</td>\n",
              "      <td>0.396508</td>\n",
              "      <td>0.173943</td>\n",
              "      <td>-0.044419</td>\n",
              "      <td>0.493723</td>\n",
              "      <td>-0.843878</td>\n",
              "      <td>0.714942</td>\n",
              "      <td>0.236681</td>\n",
              "      <td>0.721743</td>\n",
              "      <td>0.594875</td>\n",
              "      <td>0.638452</td>\n",
              "      <td>0.754227</td>\n",
              "      <td>0.681168</td>\n",
              "      <td>0.683810</td>\n",
              "      <td>0.347262</td>\n",
              "      <td>0.545070</td>\n",
              "      <td>-1.155124</td>\n",
              "      <td>-0.064189</td>\n",
              "      <td>0.015764</td>\n",
              "      <td>-0.018245</td>\n",
              "      <td>1</td>\n",
              "      <td>0.120980</td>\n",
              "      <td>0.311433</td>\n",
              "      <td>-0.262918</td>\n",
              "      <td>0.517111</td>\n",
              "      <td>0.619917</td>\n",
              "      <td>1.014944</td>\n",
              "      <td>-1.290037</td>\n",
              "      <td>0.315813</td>\n",
              "      <td>0.697085</td>\n",
              "      <td>-0.570529</td>\n",
              "      <td>1.861114</td>\n",
              "      <td>-0.419594</td>\n",
              "      <td>-0.591424</td>\n",
              "      <td>-0.104401</td>\n",
              "      <td>0.701923</td>\n",
              "      <td>1.544306</td>\n",
              "      <td>0.713570</td>\n",
              "      <td>0.577901</td>\n",
              "      <td>0.650702</td>\n",
              "      <td>0.941026</td>\n",
              "      <td>0.714181</td>\n",
              "      <td>1.281074</td>\n",
              "      <td>0.280917</td>\n",
              "    </tr>\n",
              "    <tr>\n",
              "      <th>3</th>\n",
              "      <td>0.490301</td>\n",
              "      <td>2.110724</td>\n",
              "      <td>-1.644467</td>\n",
              "      <td>0.129838</td>\n",
              "      <td>0.173943</td>\n",
              "      <td>-0.074819</td>\n",
              "      <td>0.431263</td>\n",
              "      <td>1.406958</td>\n",
              "      <td>0.692256</td>\n",
              "      <td>0.236681</td>\n",
              "      <td>0.765847</td>\n",
              "      <td>0.594875</td>\n",
              "      <td>1.031662</td>\n",
              "      <td>0.754652</td>\n",
              "      <td>0.680012</td>\n",
              "      <td>0.667990</td>\n",
              "      <td>0.177076</td>\n",
              "      <td>0.566010</td>\n",
              "      <td>-1.155124</td>\n",
              "      <td>0.434770</td>\n",
              "      <td>-0.088564</td>\n",
              "      <td>-0.271347</td>\n",
              "      <td>1</td>\n",
              "      <td>-1.082231</td>\n",
              "      <td>0.267830</td>\n",
              "      <td>0.160445</td>\n",
              "      <td>0.520906</td>\n",
              "      <td>0.596067</td>\n",
              "      <td>1.003178</td>\n",
              "      <td>-1.346706</td>\n",
              "      <td>0.162992</td>\n",
              "      <td>0.684871</td>\n",
              "      <td>-0.196906</td>\n",
              "      <td>1.227183</td>\n",
              "      <td>0.780545</td>\n",
              "      <td>-0.591424</td>\n",
              "      <td>-1.121487</td>\n",
              "      <td>0.737081</td>\n",
              "      <td>1.536807</td>\n",
              "      <td>0.798516</td>\n",
              "      <td>0.558339</td>\n",
              "      <td>0.652525</td>\n",
              "      <td>0.966018</td>\n",
              "      <td>0.799135</td>\n",
              "      <td>1.248955</td>\n",
              "      <td>0.280917</td>\n",
              "    </tr>\n",
              "  </tbody>\n",
              "</table>\n",
              "</div>"
            ],
            "text/plain": [
              "   Accounts Payable  After Tax ROE  ...  Total Revenue  Treasury Stock\n",
              "0          0.350471       0.298032  ...       0.844206        0.254827\n",
              "1          0.483371       1.386372  ...       0.903441        0.280917\n",
              "2          0.465859       2.170456  ...       1.281074        0.280917\n",
              "3          0.490301       2.110724  ...       1.248955        0.280917\n",
              "\n",
              "[4 rows x 46 columns]"
            ]
          },
          "metadata": {},
          "execution_count": 40
        }
      ]
    },
    {
      "cell_type": "markdown",
      "metadata": {
        "id": "eB4NYXRVlrcU"
      },
      "source": [
        "**K-Means**"
      ]
    },
    {
      "cell_type": "code",
      "metadata": {
        "colab": {
          "base_uri": "https://localhost:8080/",
          "height": 143
        },
        "id": "z3wY00ZylpKO",
        "outputId": "0ad786d9-ec68-40f3-a269-b7f0e01fe530"
      },
      "source": [
        "km = KMeans(n_clusters=2, random_state=42)\n",
        "km = km.fit(fun_df[feature_columns])\n",
        "#km.cluster_centers_\n",
        "#km.labels_\n",
        "fun_df['kmeans'] = km.predict(fun_df[feature_columns])\n",
        "(fun_df[['Net Income','kmeans']].groupby(['kmeans']).size().to_frame().rename(columns={0:'number'}))"
      ],
      "execution_count": null,
      "outputs": [
        {
          "output_type": "execute_result",
          "data": {
            "text/html": [
              "<div>\n",
              "<style scoped>\n",
              "    .dataframe tbody tr th:only-of-type {\n",
              "        vertical-align: middle;\n",
              "    }\n",
              "\n",
              "    .dataframe tbody tr th {\n",
              "        vertical-align: top;\n",
              "    }\n",
              "\n",
              "    .dataframe thead th {\n",
              "        text-align: right;\n",
              "    }\n",
              "</style>\n",
              "<table border=\"1\" class=\"dataframe\">\n",
              "  <thead>\n",
              "    <tr style=\"text-align: right;\">\n",
              "      <th></th>\n",
              "      <th>number</th>\n",
              "    </tr>\n",
              "    <tr>\n",
              "      <th>kmeans</th>\n",
              "      <th></th>\n",
              "    </tr>\n",
              "  </thead>\n",
              "  <tbody>\n",
              "    <tr>\n",
              "      <th>0</th>\n",
              "      <td>303</td>\n",
              "    </tr>\n",
              "    <tr>\n",
              "      <th>1</th>\n",
              "      <td>1478</td>\n",
              "    </tr>\n",
              "  </tbody>\n",
              "</table>\n",
              "</div>"
            ],
            "text/plain": [
              "        number\n",
              "kmeans        \n",
              "0          303\n",
              "1         1478"
            ]
          },
          "metadata": {},
          "execution_count": 41
        }
      ]
    },
    {
      "cell_type": "markdown",
      "metadata": {
        "id": "tM2WWmsvl-uF"
      },
      "source": [
        "**Agglomerative Clustering**"
      ]
    },
    {
      "cell_type": "code",
      "metadata": {
        "id": "8GYGppk6mEzg"
      },
      "source": [
        "for linkage in ['complete', 'ward']:\n",
        "    ag = AgglomerativeClustering(n_clusters=2, linkage=linkage, compute_full_tree=True)\n",
        "    ag = ag.fit(fun_df[feature_columns])\n",
        "    fun_df[str('agglom_'+linkage)] = ag.fit_predict(fun_df[feature_columns])"
      ],
      "execution_count": null,
      "outputs": []
    },
    {
      "cell_type": "code",
      "metadata": {
        "colab": {
          "base_uri": "https://localhost:8080/",
          "height": 206
        },
        "id": "nB86a7vOnMjB",
        "outputId": "feb56f7b-abb7-44f4-eafc-74a0a55c95fa"
      },
      "source": [
        "(fun_df[['Net Income','agglom_ward']].groupby(['Net Income','agglom_ward']).size().to_frame().rename(columns={0:'number'}))"
      ],
      "execution_count": null,
      "outputs": [
        {
          "output_type": "execute_result",
          "data": {
            "text/html": [
              "<div>\n",
              "<style scoped>\n",
              "    .dataframe tbody tr th:only-of-type {\n",
              "        vertical-align: middle;\n",
              "    }\n",
              "\n",
              "    .dataframe tbody tr th {\n",
              "        vertical-align: top;\n",
              "    }\n",
              "\n",
              "    .dataframe thead th {\n",
              "        text-align: right;\n",
              "    }\n",
              "</style>\n",
              "<table border=\"1\" class=\"dataframe\">\n",
              "  <thead>\n",
              "    <tr style=\"text-align: right;\">\n",
              "      <th></th>\n",
              "      <th></th>\n",
              "      <th>number</th>\n",
              "    </tr>\n",
              "    <tr>\n",
              "      <th>Net Income</th>\n",
              "      <th>agglom_ward</th>\n",
              "      <th></th>\n",
              "    </tr>\n",
              "  </thead>\n",
              "  <tbody>\n",
              "    <tr>\n",
              "      <th rowspan=\"2\" valign=\"top\">0</th>\n",
              "      <th>0</th>\n",
              "      <td>13</td>\n",
              "    </tr>\n",
              "    <tr>\n",
              "      <th>1</th>\n",
              "      <td>89</td>\n",
              "    </tr>\n",
              "    <tr>\n",
              "      <th rowspan=\"2\" valign=\"top\">1</th>\n",
              "      <th>0</th>\n",
              "      <td>323</td>\n",
              "    </tr>\n",
              "    <tr>\n",
              "      <th>1</th>\n",
              "      <td>1356</td>\n",
              "    </tr>\n",
              "  </tbody>\n",
              "</table>\n",
              "</div>"
            ],
            "text/plain": [
              "                        number\n",
              "Net Income agglom_ward        \n",
              "0          0                13\n",
              "           1                89\n",
              "1          0               323\n",
              "           1              1356"
            ]
          },
          "metadata": {},
          "execution_count": 43
        }
      ]
    },
    {
      "cell_type": "code",
      "metadata": {
        "colab": {
          "base_uri": "https://localhost:8080/",
          "height": 174
        },
        "id": "iMyL4D1xnRu4",
        "outputId": "11bf9857-1d3f-4b64-897e-751766140f67"
      },
      "source": [
        "(fun_df[['Net Income','agglom_complete']].groupby(['Net Income','agglom_complete']).size().to_frame().rename(columns={0:'number'}))"
      ],
      "execution_count": null,
      "outputs": [
        {
          "output_type": "execute_result",
          "data": {
            "text/html": [
              "<div>\n",
              "<style scoped>\n",
              "    .dataframe tbody tr th:only-of-type {\n",
              "        vertical-align: middle;\n",
              "    }\n",
              "\n",
              "    .dataframe tbody tr th {\n",
              "        vertical-align: top;\n",
              "    }\n",
              "\n",
              "    .dataframe thead th {\n",
              "        text-align: right;\n",
              "    }\n",
              "</style>\n",
              "<table border=\"1\" class=\"dataframe\">\n",
              "  <thead>\n",
              "    <tr style=\"text-align: right;\">\n",
              "      <th></th>\n",
              "      <th></th>\n",
              "      <th>number</th>\n",
              "    </tr>\n",
              "    <tr>\n",
              "      <th>Net Income</th>\n",
              "      <th>agglom_complete</th>\n",
              "      <th></th>\n",
              "    </tr>\n",
              "  </thead>\n",
              "  <tbody>\n",
              "    <tr>\n",
              "      <th>0</th>\n",
              "      <th>0</th>\n",
              "      <td>102</td>\n",
              "    </tr>\n",
              "    <tr>\n",
              "      <th rowspan=\"2\" valign=\"top\">1</th>\n",
              "      <th>0</th>\n",
              "      <td>1671</td>\n",
              "    </tr>\n",
              "    <tr>\n",
              "      <th>1</th>\n",
              "      <td>8</td>\n",
              "    </tr>\n",
              "  </tbody>\n",
              "</table>\n",
              "</div>"
            ],
            "text/plain": [
              "                            number\n",
              "Net Income agglom_complete        \n",
              "0          0                   102\n",
              "1          0                  1671\n",
              "           1                     8"
            ]
          },
          "metadata": {},
          "execution_count": 44
        }
      ]
    },
    {
      "cell_type": "code",
      "metadata": {
        "colab": {
          "base_uri": "https://localhost:8080/",
          "height": 300
        },
        "id": "-UrB9y94ndzq",
        "outputId": "2c34d62c-5a72-4776-9370-08eed653fbe7"
      },
      "source": [
        "# Comparing AgglomerativeClustering with KMeans\n",
        "(fun_df[['Net Income','agglom_complete', 'agglom_ward','kmeans']].groupby(['Net Income', 'agglom_complete', 'agglom_ward', 'kmeans']).size().to_frame().rename(columns={0:'number'}))"
      ],
      "execution_count": null,
      "outputs": [
        {
          "output_type": "execute_result",
          "data": {
            "text/html": [
              "<div>\n",
              "<style scoped>\n",
              "    .dataframe tbody tr th:only-of-type {\n",
              "        vertical-align: middle;\n",
              "    }\n",
              "\n",
              "    .dataframe tbody tr th {\n",
              "        vertical-align: top;\n",
              "    }\n",
              "\n",
              "    .dataframe thead th {\n",
              "        text-align: right;\n",
              "    }\n",
              "</style>\n",
              "<table border=\"1\" class=\"dataframe\">\n",
              "  <thead>\n",
              "    <tr style=\"text-align: right;\">\n",
              "      <th></th>\n",
              "      <th></th>\n",
              "      <th></th>\n",
              "      <th></th>\n",
              "      <th>number</th>\n",
              "    </tr>\n",
              "    <tr>\n",
              "      <th>Net Income</th>\n",
              "      <th>agglom_complete</th>\n",
              "      <th>agglom_ward</th>\n",
              "      <th>kmeans</th>\n",
              "      <th></th>\n",
              "    </tr>\n",
              "  </thead>\n",
              "  <tbody>\n",
              "    <tr>\n",
              "      <th rowspan=\"3\" valign=\"top\">0</th>\n",
              "      <th rowspan=\"3\" valign=\"top\">0</th>\n",
              "      <th rowspan=\"2\" valign=\"top\">0</th>\n",
              "      <th>0</th>\n",
              "      <td>8</td>\n",
              "    </tr>\n",
              "    <tr>\n",
              "      <th>1</th>\n",
              "      <td>5</td>\n",
              "    </tr>\n",
              "    <tr>\n",
              "      <th>1</th>\n",
              "      <th>1</th>\n",
              "      <td>89</td>\n",
              "    </tr>\n",
              "    <tr>\n",
              "      <th rowspan=\"4\" valign=\"top\">1</th>\n",
              "      <th rowspan=\"3\" valign=\"top\">0</th>\n",
              "      <th rowspan=\"2\" valign=\"top\">0</th>\n",
              "      <th>0</th>\n",
              "      <td>287</td>\n",
              "    </tr>\n",
              "    <tr>\n",
              "      <th>1</th>\n",
              "      <td>28</td>\n",
              "    </tr>\n",
              "    <tr>\n",
              "      <th>1</th>\n",
              "      <th>1</th>\n",
              "      <td>1356</td>\n",
              "    </tr>\n",
              "    <tr>\n",
              "      <th>1</th>\n",
              "      <th>0</th>\n",
              "      <th>0</th>\n",
              "      <td>8</td>\n",
              "    </tr>\n",
              "  </tbody>\n",
              "</table>\n",
              "</div>"
            ],
            "text/plain": [
              "                                               number\n",
              "Net Income agglom_complete agglom_ward kmeans        \n",
              "0          0               0           0            8\n",
              "                                       1            5\n",
              "                           1           1           89\n",
              "1          0               0           0          287\n",
              "                                       1           28\n",
              "                           1           1         1356\n",
              "           1               0           0            8"
            ]
          },
          "metadata": {},
          "execution_count": 45
        }
      ]
    },
    {
      "cell_type": "code",
      "metadata": {
        "colab": {
          "base_uri": "https://localhost:8080/",
          "height": 336
        },
        "id": "UItQjqBrnoO8",
        "outputId": "fd3c2bf7-a59b-436b-bc3b-55c68ca458ba"
      },
      "source": [
        "Z = hierarchy.linkage(ag.children_, method='ward')\n",
        "\n",
        "fig, ax = plt.subplots(figsize=(15,5))\n",
        "\n",
        "\n",
        "hierarchy.set_link_color_palette(['purple', 'orange'])\n",
        "\n",
        "den = hierarchy.dendrogram(Z, orientation='top', \n",
        "                           p=30, truncate_mode='lastp',\n",
        "                           show_leaf_counts=True, ax=ax,\n",
        "                           above_threshold_color='cyan')"
      ],
      "execution_count": null,
      "outputs": [
        {
          "output_type": "display_data",
          "data": {
            "image/png": "[encoded data removed]",
            "text/plain": [
              "<Figure size 1080x360 with 1 Axes>"
            ]
          },
          "metadata": {
            "needs_background": "light"
          }
        }
      ]
    }
  ]
}